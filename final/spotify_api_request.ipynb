{
 "cells": [
  {
   "cell_type": "markdown",
   "metadata": {},
   "source": [
    "# Spotify Data Collection"
   ]
  },
  {
   "cell_type": "markdown",
   "metadata": {},
   "source": [
    "We need data for the clustering analysis and the recommendation engine.\n",
    "\n",
    "We will collect them seperately."
   ]
  },
  {
   "cell_type": "code",
   "execution_count": null,
   "metadata": {
    "ExecuteTime": {
     "end_time": "2020-02-12T16:52:06.000096Z",
     "start_time": "2020-02-12T16:52:05.981722Z"
    }
   },
   "outputs": [],
   "source": [
    "import pandas as pd\n",
    "import spotipy\n",
    "import spotipy.util as util\n",
    "import sys\n",
    "from spotipy.oauth2 import SpotifyClientCredentials\n",
    "import json\n",
    "import time\n",
    "import random \n",
    "from tqdm import tqdm"
   ]
  },
  {
   "cell_type": "code",
   "execution_count": null,
   "metadata": {
    "ExecuteTime": {
     "end_time": "2020-02-12T16:50:27.358794Z",
     "start_time": "2020-02-12T16:50:27.353545Z"
    }
   },
   "outputs": [],
   "source": [
    "# Go online to the API site to collect relevant info to replace xxxxxx below\n",
    "username = xxxxxxxx\n",
    "scope = 'user-library-read'\n",
    "client_id = xxxxxxxx\n",
    "client_secret = xxxxxxxx\n",
    "\n",
    "client_credentials_manager = SpotifyClientCredentials(client_id, client_secret)\n",
    "sp = spotipy.Spotify(client_credentials_manager=client_credentials_manager)"
   ]
  },
  {
   "cell_type": "code",
   "execution_count": null,
   "metadata": {
    "ExecuteTime": {
     "end_time": "2020-02-09T18:54:08.318525Z",
     "start_time": "2020-02-09T18:54:08.287695Z"
    }
   },
   "outputs": [],
   "source": [
    "# Read in albums to scrape as a dataframe with album name and artist name here:\n",
    "'''\n",
    ".....\n",
    "'''"
   ]
  },
  {
   "cell_type": "code",
   "execution_count": null,
   "metadata": {
    "ExecuteTime": {
     "end_time": "2020-02-12T16:51:39.463323Z",
     "start_time": "2020-02-12T16:51:39.453449Z"
    }
   },
   "outputs": [],
   "source": [
    "def find_sound_features_from_album(album_name, artist_name):\n",
    "    \"\"\"\n",
    "    Note: Will only return a single album's audio features per request\n",
    "    \"\"\"\n",
    "\n",
    "    q = (\"artist:{} album:{}\".format(album_name, artist_name))\n",
    "    \n",
    "    try:\n",
    "        # Random sleep to keep API working well\n",
    "        time.sleep((random.randint(1,10)/10))\n",
    "\n",
    "        # Create query\n",
    "        results = sp.search(q=q, type='album',limit=1)\n",
    "\n",
    "        # Collect album URI\n",
    "        uri = results['albums']['items'][0]['uri']\n",
    "\n",
    "        # Fetch album tracks\n",
    "        album = sp.album_tracks(uri)\n",
    "\n",
    "        # Extract relevant song names and ids\n",
    "        song_names = []\n",
    "        song_ids = []\n",
    "        for song in album['items']:\n",
    "            song_names.append(song['name'])\n",
    "            song_ids.append(song['id'])\n",
    "\n",
    "        # Populate audio features per song\n",
    "        audio_features = []\n",
    "        for s in range(len(song_ids)):\n",
    "            audio_features.append(sp.audio_features(song_ids[s])[0])\n",
    "\n",
    "        # Add to dataframe\n",
    "        temp_df = pd.DataFrame({'song_name': song_names,\n",
    "                             'song_id': song_ids,\n",
    "                             'features': audio_features\n",
    "\n",
    "        })\n",
    "        \n",
    "        # Append album and artist to dataframe\n",
    "        temp_df['album'] = album_name\n",
    "        temp_df['artist'] = artist_name\n",
    "        \n",
    "        return pd.concat([temp_df.drop(['features'], axis=1), temp_df['features'].apply(pd.Series)], axis = 1)\n",
    "         \n",
    "    except:\n",
    "        print(\"Couldn't find {}\".format(q))\n",
    "        "
   ]
  },
  {
   "cell_type": "code",
   "execution_count": null,
   "metadata": {
    "ExecuteTime": {
     "end_time": "2020-02-12T11:38:57.535852Z",
     "start_time": "2020-02-12T10:17:23.776672Z"
    }
   },
   "outputs": [],
   "source": [
    "# Create tuples of album name and artist name from data frame\n",
    "album_artist_tuples = [tuple(x) for x in to_collect[['album_name', 'artist_name']].to_numpy()]\n",
    "\n",
    "# Collect features\n",
    "all_audio_features = []\n",
    "for i, v in tqdm(enumerate(album_artist_tuples)):\n",
    "    all_audio_features.append(find_sound_features_from_album(v[1], v[0]))"
   ]
  },
  {
   "cell_type": "code",
   "execution_count": null,
   "metadata": {
    "ExecuteTime": {
     "end_time": "2020-02-12T11:44:49.085696Z",
     "start_time": "2020-02-12T11:42:29.855035Z"
    }
   },
   "outputs": [],
   "source": [
    "# Concat all dataframes into one\n",
    "extra_spotify_features = all_audio_features[0]\n",
    "for i in range(len(all_audio_features)):\n",
    "    extra_spotify_features = pd.concat([extra_spotify_features, all_audio_features[i]], axis = 0)"
   ]
  },
  {
   "cell_type": "code",
   "execution_count": null,
   "metadata": {
    "ExecuteTime": {
     "end_time": "2020-02-12T11:49:38.363149Z",
     "start_time": "2020-02-12T11:49:38.333169Z"
    },
    "scrolled": true
   },
   "outputs": [],
   "source": [
    "# Check it worked\n",
    "extra_spotify_features.head()"
   ]
  },
  {
   "cell_type": "code",
   "execution_count": null,
   "metadata": {
    "ExecuteTime": {
     "end_time": "2020-02-12T11:50:44.846360Z",
     "start_time": "2020-02-12T11:50:43.587752Z"
    }
   },
   "outputs": [],
   "source": [
    "# Export\n",
    "extra_spotify_features.to_csv('[insert name here]', index=False)"
   ]
  }
 ],
 "metadata": {
  "kernelspec": {
   "display_name": "Python 3",
   "language": "python",
   "name": "python3"
  },
  "language_info": {
   "codemirror_mode": {
    "name": "ipython",
    "version": 3
   },
   "file_extension": ".py",
   "mimetype": "text/x-python",
   "name": "python",
   "nbconvert_exporter": "python",
   "pygments_lexer": "ipython3",
   "version": "3.7.3"
  },
  "varInspector": {
   "cols": {
    "lenName": 16,
    "lenType": 16,
    "lenVar": 40
   },
   "kernels_config": {
    "python": {
     "delete_cmd_postfix": "",
     "delete_cmd_prefix": "del ",
     "library": "var_list.py",
     "varRefreshCmd": "print(var_dic_list())"
    },
    "r": {
     "delete_cmd_postfix": ") ",
     "delete_cmd_prefix": "rm(",
     "library": "var_list.r",
     "varRefreshCmd": "cat(var_dic_list()) "
    }
   },
   "types_to_exclude": [
    "module",
    "function",
    "builtin_function_or_method",
    "instance",
    "_Feature"
   ],
   "window_display": false
  }
 },
 "nbformat": 4,
 "nbformat_minor": 2
}
