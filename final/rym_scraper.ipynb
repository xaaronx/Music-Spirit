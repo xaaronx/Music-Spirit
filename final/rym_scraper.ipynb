{
 "cells": [
  {
   "cell_type": "markdown",
   "metadata": {},
   "source": [
    "# Scrape various features from RYM"
   ]
  },
  {
   "cell_type": "markdown",
   "metadata": {},
   "source": [
    "Use the below to:\n",
    "- Sign in to RYM\n",
    "- Collect album info / meta-data\n",
    "\n",
    "Note that Rateyourmusic.com has strict protection against scraping. Setting time delays and logging-in is critical to avoid being blocked."
   ]
  },
  {
   "cell_type": "code",
   "execution_count": null,
   "metadata": {
    "ExecuteTime": {
     "end_time": "2020-02-09T16:36:04.785865Z",
     "start_time": "2020-02-09T16:36:03.447228Z"
    }
   },
   "outputs": [],
   "source": [
    "from selenium import webdriver\n",
    "import requests\n",
    "from tqdm import tqdm_notebook as tqdm\n",
    "import time\n",
    "import pandas as pd\n",
    "import random"
   ]
  },
  {
   "cell_type": "markdown",
   "metadata": {},
   "source": [
    "# 1. Collect descriptors and album-level information"
   ]
  },
  {
   "cell_type": "code",
   "execution_count": null,
   "metadata": {
    "ExecuteTime": {
     "end_time": "2020-02-09T16:42:22.282645Z",
     "start_time": "2020-02-09T16:42:22.274638Z"
    }
   },
   "outputs": [],
   "source": [
    "def open_and_login(user, pword, sleep):\n",
    "\n",
    "    #Start at login and take user through to homepage, logged in\n",
    "    #Make sure to give real sleep times to help glitches\n",
    "    #Make sure ChromeDriver is in correct filepath\n",
    "    sign_on = 'https://rateyourmusic.com/account/login'\n",
    "    driver = webdriver.Chrome('./chromedriver1')\n",
    "    driver.get(sign_on)\n",
    "    \n",
    "    #input user\n",
    "    username = driver.find_element_by_id(\"username\")\n",
    "    username.clear()\n",
    "    username.send_keys(user)\n",
    "\n",
    "    #input pword\n",
    "    password = driver.find_element_by_name(\"password\")\n",
    "    password.clear()\n",
    "    password.send_keys(pword)\n",
    "\n",
    "    #login\n",
    "    driver.find_element_by_id(\"login_submit\").click()\n",
    "\n",
    "    time.sleep(sleep)\n",
    "\n",
    "    #close pop ups - may not always be necessary\n",
    "    driver.find_element_by_class_name(\"as-oil-l-item\").click()\n",
    "\n",
    "    time.sleep(sleep)\n",
    "    \n",
    "    return driver\n"
   ]
  },
  {
   "cell_type": "code",
   "execution_count": null,
   "metadata": {
    "ExecuteTime": {
     "end_time": "2020-02-09T16:36:13.424187Z",
     "start_time": "2020-02-09T16:36:13.420345Z"
    }
   },
   "outputs": [],
   "source": [
    "def navigate_to_charts(pause, driver):\n",
    "\n",
    "    driver.find_element_by_xpath('//*[@title=\"View top charts by year, location, genre and more!\"]').click()\n",
    "\n",
    "    time.sleep(pause)"
   ]
  },
  {
   "cell_type": "code",
   "execution_count": null,
   "metadata": {
    "ExecuteTime": {
     "end_time": "2020-02-09T17:00:04.975189Z",
     "start_time": "2020-02-09T17:00:04.963871Z"
    }
   },
   "outputs": [],
   "source": [
    "def grab_album_metadata(num_pages, driver):\n",
    "    \n",
    "    album_name = []\n",
    "    artist_name = []\n",
    "    descriptor = []\n",
    "    album_id = []\n",
    "    album_genre = []\n",
    "    \n",
    "    for page in tqdm(range(num_pages)):\n",
    "\n",
    "        album_tags = driver.find_elements_by_tag_name('td')\n",
    "\n",
    "        for album in album_tags:\n",
    "\n",
    "        # album name\n",
    "            try:\n",
    "                album_name.append(album.find_element_by_class_name('chart_detail_line2').find_element_by_class_name('album').text)\n",
    "            except:\n",
    "                pass\n",
    "\n",
    "        # artist name\n",
    "            try:    \n",
    "                artist_name.append(album.find_element_by_class_name('chart_detail_line1').find_element_by_class_name('artist').text)\n",
    "            except:\n",
    "                pass\n",
    "            \n",
    "        # album ids\n",
    "            try:\n",
    "                if '_l_' in (album.find_element_by_tag_name('img')).get_attribute('id'):\n",
    "                    album_id.append((album.find_element_by_tag_name('img')).get_attribute('id'))\n",
    "            except:\n",
    "                pass\n",
    "        \n",
    "        # genres\n",
    "        album_tags = clicker.find_elements_by_class_name('chart_main')\n",
    "        \n",
    "        for album in album_tags:\n",
    "\n",
    "            try:\n",
    "                genres = []\n",
    "                album_genres = album.find_elements_by_class_name('genre')\n",
    "                for genre in album_genres:\n",
    "                    genres.append(genre.text)\n",
    "\n",
    "            except:\n",
    "                pass\n",
    "            \n",
    "            album_genre.append(genres)\n",
    "\n",
    "        #descriptor\n",
    "        album_tags = driver.find_elements_by_class_name('chart_detail_line3')\n",
    "\n",
    "        for album in album_tags:\n",
    "            try:\n",
    "                descriptor.append(album.find_element_by_class_name('extra_metadata.extra_metadata_descriptors').text)\n",
    "            except:\n",
    "                pass\n",
    "\n",
    "        time.sleep(random.randint(2,5))    \n",
    "            \n",
    "        driver.find_element_by_class_name('navlinknext').click()\n",
    "\n",
    "    return  album_name, artist_name, descriptor, album_id, album_genre\n",
    "    "
   ]
  },
  {
   "cell_type": "code",
   "execution_count": null,
   "metadata": {
    "ExecuteTime": {
     "end_time": "2020-02-09T17:31:42.237234Z",
     "start_time": "2020-02-09T17:31:31.681617Z"
    }
   },
   "outputs": [],
   "source": [
    "# Replace xxxxxxx with your details\n",
    "# Prepare the scraper by logging-in\n",
    "clicker = open_and_login(xxxxxxxxx, xxxxxxxx, 2)"
   ]
  },
  {
   "cell_type": "code",
   "execution_count": null,
   "metadata": {
    "ExecuteTime": {
     "end_time": "2020-02-09T17:31:58.575950Z",
     "start_time": "2020-02-09T17:31:46.808978Z"
    }
   },
   "outputs": [],
   "source": [
    "# Go to charts plage\n",
    "navigate_to_charts(5, clicker)"
   ]
  },
  {
   "cell_type": "code",
   "execution_count": null,
   "metadata": {
    "ExecuteTime": {
     "end_time": "2020-02-09T17:44:53.980791Z",
     "start_time": "2020-02-09T17:32:00.075941Z"
    }
   },
   "outputs": [],
   "source": [
    "# Collect 40 pages \n",
    "albums, artists, descriptors, album_ids, genres = grab_album_metadata(40, clicker)"
   ]
  },
  {
   "cell_type": "code",
   "execution_count": null,
   "metadata": {
    "ExecuteTime": {
     "end_time": "2020-02-09T18:18:32.897841Z",
     "start_time": "2020-02-09T18:18:32.887869Z"
    }
   },
   "outputs": [],
   "source": [
    "df = pd.DataFrame({'album': albums,\n",
    "                   'artist': artists,\n",
    "                   'descriptors': descriptors,\n",
    "                   'id': albums_ids,\n",
    "                   'genre': genres})\n",
    "\n",
    "print(df.shape)"
   ]
  },
  {
   "cell_type": "code",
   "execution_count": null,
   "metadata": {
    "ExecuteTime": {
     "end_time": "2020-02-09T18:19:43.578669Z",
     "start_time": "2020-02-09T18:19:43.499821Z"
    }
   },
   "outputs": [],
   "source": [
    "df.to_csv('RYM_Top_4000.csv',index=False)"
   ]
  }
 ],
 "metadata": {
  "kernelspec": {
   "display_name": "Python 3",
   "language": "python",
   "name": "python3"
  },
  "language_info": {
   "codemirror_mode": {
    "name": "ipython",
    "version": 3
   },
   "file_extension": ".py",
   "mimetype": "text/x-python",
   "name": "python",
   "nbconvert_exporter": "python",
   "pygments_lexer": "ipython3",
   "version": "3.7.3"
  },
  "varInspector": {
   "cols": {
    "lenName": 16,
    "lenType": 16,
    "lenVar": 40
   },
   "kernels_config": {
    "python": {
     "delete_cmd_postfix": "",
     "delete_cmd_prefix": "del ",
     "library": "var_list.py",
     "varRefreshCmd": "print(var_dic_list())"
    },
    "r": {
     "delete_cmd_postfix": ") ",
     "delete_cmd_prefix": "rm(",
     "library": "var_list.r",
     "varRefreshCmd": "cat(var_dic_list()) "
    }
   },
   "types_to_exclude": [
    "module",
    "function",
    "builtin_function_or_method",
    "instance",
    "_Feature"
   ],
   "window_display": false
  }
 },
 "nbformat": 4,
 "nbformat_minor": 2
}
