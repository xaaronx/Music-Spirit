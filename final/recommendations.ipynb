{
 "cells": [
  {
   "cell_type": "markdown",
   "metadata": {},
   "source": [
    "# Offering recommendations from the new clusters"
   ]
  },
  {
   "cell_type": "markdown",
   "metadata": {},
   "source": [
    "This part of the project is still in progress and is currently only in early stages.\n",
    "\n",
    "The first part of this notebook looks at building basic content-based and collaborative recommendation engines.\n",
    "\n",
    "The original intention for the project had been to use LightFM's hybrid recommendation system functionality to check the validity of the new clusters. There is plenty more to be done on this part of the project."
   ]
  },
  {
   "cell_type": "code",
   "execution_count": 1,
   "metadata": {
    "ExecuteTime": {
     "end_time": "2020-03-19T09:32:30.754420Z",
     "start_time": "2020-03-19T09:32:29.317867Z"
    }
   },
   "outputs": [],
   "source": [
    "import numpy\n",
    "import pandas as pd\n",
    "import joblib\n",
    "\n",
    "from sklearn.preprocessing import StandardScaler\n",
    "from sklearn.feature_extraction.text import CountVectorizer\n",
    "\n",
    "import surprise as sur\n",
    "import random\n",
    "from collections import defaultdict\n",
    "\n",
    "\n",
    "import warnings\n",
    "warnings.filterwarnings(\"ignore\")"
   ]
  },
  {
   "cell_type": "code",
   "execution_count": 4,
   "metadata": {
    "ExecuteTime": {
     "end_time": "2020-03-19T09:33:20.798145Z",
     "start_time": "2020-03-19T09:33:19.276922Z"
    }
   },
   "outputs": [],
   "source": [
    "working_filepath = '../../Data/'\n",
    "# Spotify feature data\n",
    "spot = pd.read_csv(working_filepath + 'SQL_SpotifyMetrics_Export.csv', index_col=0)\n",
    "# RYM ratings data\n",
    "ratings = pd.read_csv(working_filepath + 'SQL_Ratings_Export.csv', index_col=0)\n",
    "# Genre Ids\n",
    "rym_genres = pd.read_csv(working_filepath + 'SQL_RYM_Genre_Export.csv', index_col=0)\n",
    "# Album data\n",
    "albums = pd.read_csv(working_filepath + 'SQL_Album_Export.csv', index_col=0)\n",
    "# Album genre data\n",
    "album_genres = pd.read_csv(working_filepath + 'SQL_Album_genres_Export.csv', index_col=0)\n"
   ]
  },
  {
   "cell_type": "code",
   "execution_count": 5,
   "metadata": {
    "ExecuteTime": {
     "end_time": "2020-03-19T09:33:29.712726Z",
     "start_time": "2020-03-19T09:33:29.708051Z"
    }
   },
   "outputs": [],
   "source": [
    "spot.columns = ['acousticness', 'analysisUrl', 'danceability', 'duration_ms', 'energy',\n",
    "       'spotId', 'instrumentalness', 'key', 'liveness', 'loudness', 'mode',\n",
    "       'songId', 'songName', 'speechiness', 'tempo', 'timeSignature',\n",
    "       'trackHref', 'type', 'uri', 'valence', 'albumId', 'artistName',\n",
    "       'artistId', 'albumName']"
   ]
  },
  {
   "cell_type": "code",
   "execution_count": 6,
   "metadata": {
    "ExecuteTime": {
     "end_time": "2020-03-19T09:33:31.103734Z",
     "start_time": "2020-03-19T09:33:31.098449Z"
    }
   },
   "outputs": [],
   "source": [
    "ratings.columns = ['ratingId', 'score', 'ratingYear',\n",
    "                   'ratingMonth', 'ratingDay', 'identifierRYM',\n",
    "                   'albumId', 'profileId']"
   ]
  },
  {
   "cell_type": "code",
   "execution_count": 7,
   "metadata": {
    "ExecuteTime": {
     "end_time": "2020-03-19T09:33:34.732673Z",
     "start_time": "2020-03-19T09:33:34.076293Z"
    }
   },
   "outputs": [],
   "source": [
    "df = pd.merge(spot, ratings, on = 'albumId', how = 'left')"
   ]
  },
  {
   "cell_type": "code",
   "execution_count": 8,
   "metadata": {
    "ExecuteTime": {
     "end_time": "2020-03-19T09:33:35.666411Z",
     "start_time": "2020-03-19T09:33:35.655790Z"
    }
   },
   "outputs": [],
   "source": [
    "rym_genres.columns = ['genreId', 'genreName']"
   ]
  },
  {
   "cell_type": "code",
   "execution_count": 9,
   "metadata": {
    "ExecuteTime": {
     "end_time": "2020-03-19T09:33:36.883869Z",
     "start_time": "2020-03-19T09:33:36.861784Z"
    }
   },
   "outputs": [],
   "source": [
    "album_genres = pd.merge(album_genres, rym_genres, on = 'genreId', how = 'left')"
   ]
  },
  {
   "cell_type": "markdown",
   "metadata": {},
   "source": [
    "We have some albums with multiple genres. We will arbitrarily remove these duplicates."
   ]
  },
  {
   "cell_type": "code",
   "execution_count": 10,
   "metadata": {
    "ExecuteTime": {
     "end_time": "2020-03-19T09:33:37.915053Z",
     "start_time": "2020-03-19T09:33:37.883364Z"
    }
   },
   "outputs": [],
   "source": [
    "album_genres = album_genres.sort_values('albumId').drop_duplicates(subset = 'albumId')"
   ]
  },
  {
   "cell_type": "markdown",
   "metadata": {},
   "source": [
    "Connect them all now."
   ]
  },
  {
   "cell_type": "code",
   "execution_count": 11,
   "metadata": {
    "ExecuteTime": {
     "end_time": "2020-03-19T09:33:39.845376Z",
     "start_time": "2020-03-19T09:33:39.532456Z"
    }
   },
   "outputs": [],
   "source": [
    "df = pd.merge(df, album_genres, on = 'albumId', how = 'left')"
   ]
  },
  {
   "cell_type": "code",
   "execution_count": 12,
   "metadata": {
    "ExecuteTime": {
     "end_time": "2020-03-19T09:33:41.420922Z",
     "start_time": "2020-03-19T09:33:40.773808Z"
    }
   },
   "outputs": [],
   "source": [
    "df.dropna(inplace = True)"
   ]
  },
  {
   "cell_type": "markdown",
   "metadata": {},
   "source": [
    "Lets see our most active users."
   ]
  },
  {
   "cell_type": "code",
   "execution_count": 13,
   "metadata": {
    "ExecuteTime": {
     "end_time": "2020-03-19T09:33:42.464057Z",
     "start_time": "2020-03-19T09:33:42.436693Z"
    }
   },
   "outputs": [
    {
     "data": {
      "text/plain": [
       "[60.0, 42.0, 85.0, 14.0, 69.0]"
      ]
     },
     "execution_count": 13,
     "metadata": {},
     "output_type": "execute_result"
    }
   ],
   "source": [
    "users = list(df['profileId'].value_counts().index)\n",
    "users[0:5]"
   ]
  },
  {
   "cell_type": "code",
   "execution_count": 14,
   "metadata": {
    "ExecuteTime": {
     "end_time": "2020-03-19T09:33:44.128841Z",
     "start_time": "2020-03-19T09:33:44.100988Z"
    }
   },
   "outputs": [],
   "source": [
    "# Clean up\n",
    "del spot, ratings, rym_genres, albums, album_genres"
   ]
  },
  {
   "cell_type": "markdown",
   "metadata": {},
   "source": [
    "# Recommendation-based Modelling"
   ]
  },
  {
   "cell_type": "markdown",
   "metadata": {},
   "source": [
    "We need to train an engine that uses genre as an input and our clusters.\n",
    "\n",
    "First we need to prepare our data."
   ]
  },
  {
   "cell_type": "markdown",
   "metadata": {},
   "source": [
    "Generate clusters for albums."
   ]
  },
  {
   "cell_type": "code",
   "execution_count": 15,
   "metadata": {
    "ExecuteTime": {
     "end_time": "2020-03-19T09:33:55.574230Z",
     "start_time": "2020-03-19T09:33:55.570047Z"
    }
   },
   "outputs": [],
   "source": [
    "def std_scale(var):\n",
    "    scaler = StandardScaler()\n",
    "    return pd.DataFrame(scaler.fit_transform(var),\n",
    "                        columns = var.columns,\n",
    "                        index = var.index)"
   ]
  },
  {
   "cell_type": "code",
   "execution_count": 16,
   "metadata": {
    "ExecuteTime": {
     "end_time": "2020-03-19T09:33:57.870184Z",
     "start_time": "2020-03-19T09:33:57.865388Z"
    }
   },
   "outputs": [],
   "source": [
    "# Collect spotify feature data from dataframe\n",
    "def extract_spotify_features(users_df):\n",
    "    return std_scale(pd.concat([\n",
    "                        users_df[['danceability', 'energy', 'loudness', 'speechiness',\n",
    "                            'acousticness', 'instrumentalness','liveness', 'valence',\n",
    "                            'tempo', 'duration_ms', 'mode']],\n",
    "                        (pd.get_dummies(users_df[['key']].astype(str), drop_first = True))\n",
    "                               ], axis = 1))"
   ]
  },
  {
   "cell_type": "code",
   "execution_count": 17,
   "metadata": {
    "ExecuteTime": {
     "end_time": "2020-03-19T09:33:58.821050Z",
     "start_time": "2020-03-19T09:33:58.817405Z"
    }
   },
   "outputs": [],
   "source": [
    "# Create clustered labels for each user's songs\n",
    "def generate_new_genre_classification(users_df, clustering_model):\n",
    "    return clustering_model.predict(users_df)"
   ]
  },
  {
   "cell_type": "code",
   "execution_count": 18,
   "metadata": {
    "ExecuteTime": {
     "end_time": "2020-03-19T09:33:59.781200Z",
     "start_time": "2020-03-19T09:33:59.777160Z"
    }
   },
   "outputs": [],
   "source": [
    "# Create user/rating table\n",
    "def create_ratings_matrix(category, dataframe):\n",
    "    return pd.pivot_table(dataframe, values='score', index=['profileId'], columns=[category])"
   ]
  },
  {
   "cell_type": "code",
   "execution_count": 20,
   "metadata": {
    "ExecuteTime": {
     "end_time": "2020-03-19T09:34:48.702435Z",
     "start_time": "2020-03-19T09:34:47.382042Z"
    }
   },
   "outputs": [],
   "source": [
    "all_sound_feats = extract_spotify_features(df)\n",
    "all_sound_feats.dropna(inplace = True)\n",
    "\n",
    "cluster_model = joblib.load('../../Models/FinalClusterModel.sav')\n",
    "clusters = generate_new_genre_classification(all_sound_feats, cluster_model)\n",
    "df['clusters'] = clusters"
   ]
  },
  {
   "cell_type": "code",
   "execution_count": 21,
   "metadata": {
    "ExecuteTime": {
     "end_time": "2020-03-19T09:34:51.641867Z",
     "start_time": "2020-03-19T09:34:50.219185Z"
    }
   },
   "outputs": [],
   "source": [
    "df['artistSong'] = df['artistName'] + ' / ' +df['songName']\n",
    "ratings_df = create_ratings_matrix('artistSong', df)"
   ]
  },
  {
   "cell_type": "markdown",
   "metadata": {},
   "source": [
    "Prepping our feature matrices.\n",
    "\n",
    "We need one for clusters and one for genres."
   ]
  },
  {
   "cell_type": "code",
   "execution_count": 22,
   "metadata": {
    "ExecuteTime": {
     "end_time": "2020-03-19T09:35:26.821534Z",
     "start_time": "2020-03-19T09:35:26.816165Z"
    }
   },
   "outputs": [],
   "source": [
    "def make_feature_matrices(feature, data):\n",
    "    feature_matrix = data.drop_duplicates(subset='songId')[[feature, 'artistSong']]\n",
    "    feature_matrix.set_index('artistSong', drop = True, inplace = True)\n",
    "    feature_matrix[str(feature)] = feature_matrix[feature].astype(str)\n",
    "    return feature_matrix"
   ]
  },
  {
   "cell_type": "code",
   "execution_count": 23,
   "metadata": {
    "ExecuteTime": {
     "end_time": "2020-03-19T09:35:32.376459Z",
     "start_time": "2020-03-19T09:35:32.065613Z"
    }
   },
   "outputs": [],
   "source": [
    "feature_matrix_clusters = make_feature_matrices('clusters', df)\n",
    "feature_matrix_genre = make_feature_matrices('genreName', df)"
   ]
  },
  {
   "cell_type": "code",
   "execution_count": 24,
   "metadata": {
    "ExecuteTime": {
     "end_time": "2020-03-19T09:35:37.302656Z",
     "start_time": "2020-03-19T09:35:37.267598Z"
    }
   },
   "outputs": [
    {
     "data": {
      "text/html": [
       "<div>\n",
       "<style scoped>\n",
       "    .dataframe tbody tr th:only-of-type {\n",
       "        vertical-align: middle;\n",
       "    }\n",
       "\n",
       "    .dataframe tbody tr th {\n",
       "        vertical-align: top;\n",
       "    }\n",
       "\n",
       "    .dataframe thead th {\n",
       "        text-align: right;\n",
       "    }\n",
       "</style>\n",
       "<table border=\"1\" class=\"dataframe\">\n",
       "  <thead>\n",
       "    <tr style=\"text-align: right;\">\n",
       "      <th></th>\n",
       "      <th>clusters</th>\n",
       "    </tr>\n",
       "    <tr>\n",
       "      <th>artistSong</th>\n",
       "      <th></th>\n",
       "    </tr>\n",
       "  </thead>\n",
       "  <tbody>\n",
       "    <tr>\n",
       "      <th>The 1975 / The 1975</th>\n",
       "      <td>19</td>\n",
       "    </tr>\n",
       "    <tr>\n",
       "      <th>The 1975 / The City</th>\n",
       "      <td>7</td>\n",
       "    </tr>\n",
       "    <tr>\n",
       "      <th>The 1975 / M.O.N.E.Y.</th>\n",
       "      <td>28</td>\n",
       "    </tr>\n",
       "    <tr>\n",
       "      <th>The 1975 / Chocolate</th>\n",
       "      <td>6</td>\n",
       "    </tr>\n",
       "    <tr>\n",
       "      <th>The 1975 / Sex</th>\n",
       "      <td>11</td>\n",
       "    </tr>\n",
       "  </tbody>\n",
       "</table>\n",
       "</div>"
      ],
      "text/plain": [
       "                      clusters\n",
       "artistSong                    \n",
       "The 1975 / The 1975         19\n",
       "The 1975 / The City          7\n",
       "The 1975 / M.O.N.E.Y.       28\n",
       "The 1975 / Chocolate         6\n",
       "The 1975 / Sex              11"
      ]
     },
     "execution_count": 24,
     "metadata": {},
     "output_type": "execute_result"
    }
   ],
   "source": [
    "feature_matrix_clusters.head()"
   ]
  },
  {
   "cell_type": "code",
   "execution_count": 25,
   "metadata": {
    "ExecuteTime": {
     "end_time": "2020-03-19T09:36:02.198009Z",
     "start_time": "2020-03-19T09:36:02.153748Z"
    }
   },
   "outputs": [],
   "source": [
    "# To ensure the vectoriser works properly, we will add a 'c' to each value\n",
    "feature_matrix_clusters['clusters'] = feature_matrix_clusters['clusters'].apply(lambda x: 'c'+str(x))"
   ]
  },
  {
   "cell_type": "code",
   "execution_count": 26,
   "metadata": {
    "ExecuteTime": {
     "end_time": "2020-03-19T09:36:07.599949Z",
     "start_time": "2020-03-19T09:36:07.587712Z"
    }
   },
   "outputs": [
    {
     "data": {
      "text/html": [
       "<div>\n",
       "<style scoped>\n",
       "    .dataframe tbody tr th:only-of-type {\n",
       "        vertical-align: middle;\n",
       "    }\n",
       "\n",
       "    .dataframe tbody tr th {\n",
       "        vertical-align: top;\n",
       "    }\n",
       "\n",
       "    .dataframe thead th {\n",
       "        text-align: right;\n",
       "    }\n",
       "</style>\n",
       "<table border=\"1\" class=\"dataframe\">\n",
       "  <thead>\n",
       "    <tr style=\"text-align: right;\">\n",
       "      <th></th>\n",
       "      <th>genreName</th>\n",
       "    </tr>\n",
       "    <tr>\n",
       "      <th>artistSong</th>\n",
       "      <th></th>\n",
       "    </tr>\n",
       "  </thead>\n",
       "  <tbody>\n",
       "    <tr>\n",
       "      <th>The 1975 / The 1975</th>\n",
       "      <td>Pop Rock</td>\n",
       "    </tr>\n",
       "    <tr>\n",
       "      <th>The 1975 / The City</th>\n",
       "      <td>Pop Rock</td>\n",
       "    </tr>\n",
       "    <tr>\n",
       "      <th>The 1975 / M.O.N.E.Y.</th>\n",
       "      <td>Pop Rock</td>\n",
       "    </tr>\n",
       "    <tr>\n",
       "      <th>The 1975 / Chocolate</th>\n",
       "      <td>Pop Rock</td>\n",
       "    </tr>\n",
       "    <tr>\n",
       "      <th>The 1975 / Sex</th>\n",
       "      <td>Pop Rock</td>\n",
       "    </tr>\n",
       "  </tbody>\n",
       "</table>\n",
       "</div>"
      ],
      "text/plain": [
       "                      genreName\n",
       "artistSong                     \n",
       "The 1975 / The 1975    Pop Rock\n",
       "The 1975 / The City    Pop Rock\n",
       "The 1975 / M.O.N.E.Y.  Pop Rock\n",
       "The 1975 / Chocolate   Pop Rock\n",
       "The 1975 / Sex         Pop Rock"
      ]
     },
     "execution_count": 26,
     "metadata": {},
     "output_type": "execute_result"
    }
   ],
   "source": [
    "feature_matrix_genre.head()"
   ]
  },
  {
   "cell_type": "markdown",
   "metadata": {},
   "source": [
    "We now need to convert them to full feature matrices.\n",
    "\n",
    "We can count vectorise."
   ]
  },
  {
   "cell_type": "code",
   "execution_count": 27,
   "metadata": {
    "ExecuteTime": {
     "end_time": "2020-03-19T09:36:12.908579Z",
     "start_time": "2020-03-19T09:36:12.902479Z"
    }
   },
   "outputs": [],
   "source": [
    "def vectorise_feature_matrix(feature, data):\n",
    "    count = CountVectorizer()\n",
    "    count.fit(data[feature])\n",
    "    return pd.DataFrame(count.transform(data[feature]).toarray(),\n",
    "                        columns = count.get_feature_names(),\n",
    "                        index = feature_matrix_genre.index)\n"
   ]
  },
  {
   "cell_type": "code",
   "execution_count": 28,
   "metadata": {
    "ExecuteTime": {
     "end_time": "2020-03-19T09:36:19.216447Z",
     "start_time": "2020-03-19T09:36:17.820984Z"
    }
   },
   "outputs": [],
   "source": [
    "feature_matrix_clusters = vectorise_feature_matrix('clusters', feature_matrix_clusters)\n",
    "feature_matrix_genre = vectorise_feature_matrix('genreName', feature_matrix_genre)"
   ]
  },
  {
   "cell_type": "code",
   "execution_count": 29,
   "metadata": {
    "ExecuteTime": {
     "end_time": "2020-03-19T09:36:24.482004Z",
     "start_time": "2020-03-19T09:36:24.463155Z"
    }
   },
   "outputs": [
    {
     "data": {
      "text/html": [
       "<div>\n",
       "<style scoped>\n",
       "    .dataframe tbody tr th:only-of-type {\n",
       "        vertical-align: middle;\n",
       "    }\n",
       "\n",
       "    .dataframe tbody tr th {\n",
       "        vertical-align: top;\n",
       "    }\n",
       "\n",
       "    .dataframe thead th {\n",
       "        text-align: right;\n",
       "    }\n",
       "</style>\n",
       "<table border=\"1\" class=\"dataframe\">\n",
       "  <thead>\n",
       "    <tr style=\"text-align: right;\">\n",
       "      <th></th>\n",
       "      <th>abstract</th>\n",
       "      <th>acid</th>\n",
       "      <th>acoustic</th>\n",
       "      <th>adult</th>\n",
       "      <th>afro</th>\n",
       "      <th>afrobeat</th>\n",
       "      <th>age</th>\n",
       "      <th>alt</th>\n",
       "      <th>alternative</th>\n",
       "      <th>ambient</th>\n",
       "      <th>...</th>\n",
       "      <th>west</th>\n",
       "      <th>western</th>\n",
       "      <th>witch</th>\n",
       "      <th>wonky</th>\n",
       "      <th>word</th>\n",
       "      <th>yacht</th>\n",
       "      <th>york</th>\n",
       "      <th>yoruba</th>\n",
       "      <th>zamrock</th>\n",
       "      <th>zeuhl</th>\n",
       "    </tr>\n",
       "    <tr>\n",
       "      <th>artistSong</th>\n",
       "      <th></th>\n",
       "      <th></th>\n",
       "      <th></th>\n",
       "      <th></th>\n",
       "      <th></th>\n",
       "      <th></th>\n",
       "      <th></th>\n",
       "      <th></th>\n",
       "      <th></th>\n",
       "      <th></th>\n",
       "      <th></th>\n",
       "      <th></th>\n",
       "      <th></th>\n",
       "      <th></th>\n",
       "      <th></th>\n",
       "      <th></th>\n",
       "      <th></th>\n",
       "      <th></th>\n",
       "      <th></th>\n",
       "      <th></th>\n",
       "      <th></th>\n",
       "    </tr>\n",
       "  </thead>\n",
       "  <tbody>\n",
       "    <tr>\n",
       "      <th>The 1975 / The 1975</th>\n",
       "      <td>0</td>\n",
       "      <td>0</td>\n",
       "      <td>0</td>\n",
       "      <td>0</td>\n",
       "      <td>0</td>\n",
       "      <td>0</td>\n",
       "      <td>0</td>\n",
       "      <td>0</td>\n",
       "      <td>0</td>\n",
       "      <td>0</td>\n",
       "      <td>...</td>\n",
       "      <td>0</td>\n",
       "      <td>0</td>\n",
       "      <td>0</td>\n",
       "      <td>0</td>\n",
       "      <td>0</td>\n",
       "      <td>0</td>\n",
       "      <td>0</td>\n",
       "      <td>0</td>\n",
       "      <td>0</td>\n",
       "      <td>0</td>\n",
       "    </tr>\n",
       "    <tr>\n",
       "      <th>The 1975 / The City</th>\n",
       "      <td>0</td>\n",
       "      <td>0</td>\n",
       "      <td>0</td>\n",
       "      <td>0</td>\n",
       "      <td>0</td>\n",
       "      <td>0</td>\n",
       "      <td>0</td>\n",
       "      <td>0</td>\n",
       "      <td>0</td>\n",
       "      <td>0</td>\n",
       "      <td>...</td>\n",
       "      <td>0</td>\n",
       "      <td>0</td>\n",
       "      <td>0</td>\n",
       "      <td>0</td>\n",
       "      <td>0</td>\n",
       "      <td>0</td>\n",
       "      <td>0</td>\n",
       "      <td>0</td>\n",
       "      <td>0</td>\n",
       "      <td>0</td>\n",
       "    </tr>\n",
       "    <tr>\n",
       "      <th>The 1975 / M.O.N.E.Y.</th>\n",
       "      <td>0</td>\n",
       "      <td>0</td>\n",
       "      <td>0</td>\n",
       "      <td>0</td>\n",
       "      <td>0</td>\n",
       "      <td>0</td>\n",
       "      <td>0</td>\n",
       "      <td>0</td>\n",
       "      <td>0</td>\n",
       "      <td>0</td>\n",
       "      <td>...</td>\n",
       "      <td>0</td>\n",
       "      <td>0</td>\n",
       "      <td>0</td>\n",
       "      <td>0</td>\n",
       "      <td>0</td>\n",
       "      <td>0</td>\n",
       "      <td>0</td>\n",
       "      <td>0</td>\n",
       "      <td>0</td>\n",
       "      <td>0</td>\n",
       "    </tr>\n",
       "    <tr>\n",
       "      <th>The 1975 / Chocolate</th>\n",
       "      <td>0</td>\n",
       "      <td>0</td>\n",
       "      <td>0</td>\n",
       "      <td>0</td>\n",
       "      <td>0</td>\n",
       "      <td>0</td>\n",
       "      <td>0</td>\n",
       "      <td>0</td>\n",
       "      <td>0</td>\n",
       "      <td>0</td>\n",
       "      <td>...</td>\n",
       "      <td>0</td>\n",
       "      <td>0</td>\n",
       "      <td>0</td>\n",
       "      <td>0</td>\n",
       "      <td>0</td>\n",
       "      <td>0</td>\n",
       "      <td>0</td>\n",
       "      <td>0</td>\n",
       "      <td>0</td>\n",
       "      <td>0</td>\n",
       "    </tr>\n",
       "    <tr>\n",
       "      <th>The 1975 / Sex</th>\n",
       "      <td>0</td>\n",
       "      <td>0</td>\n",
       "      <td>0</td>\n",
       "      <td>0</td>\n",
       "      <td>0</td>\n",
       "      <td>0</td>\n",
       "      <td>0</td>\n",
       "      <td>0</td>\n",
       "      <td>0</td>\n",
       "      <td>0</td>\n",
       "      <td>...</td>\n",
       "      <td>0</td>\n",
       "      <td>0</td>\n",
       "      <td>0</td>\n",
       "      <td>0</td>\n",
       "      <td>0</td>\n",
       "      <td>0</td>\n",
       "      <td>0</td>\n",
       "      <td>0</td>\n",
       "      <td>0</td>\n",
       "      <td>0</td>\n",
       "    </tr>\n",
       "  </tbody>\n",
       "</table>\n",
       "<p>5 rows × 340 columns</p>\n",
       "</div>"
      ],
      "text/plain": [
       "                       abstract  acid  acoustic  adult  afro  afrobeat  age  \\\n",
       "artistSong                                                                    \n",
       "The 1975 / The 1975           0     0         0      0     0         0    0   \n",
       "The 1975 / The City           0     0         0      0     0         0    0   \n",
       "The 1975 / M.O.N.E.Y.         0     0         0      0     0         0    0   \n",
       "The 1975 / Chocolate          0     0         0      0     0         0    0   \n",
       "The 1975 / Sex                0     0         0      0     0         0    0   \n",
       "\n",
       "                       alt  alternative  ambient  ...  west  western  witch  \\\n",
       "artistSong                                        ...                         \n",
       "The 1975 / The 1975      0            0        0  ...     0        0      0   \n",
       "The 1975 / The City      0            0        0  ...     0        0      0   \n",
       "The 1975 / M.O.N.E.Y.    0            0        0  ...     0        0      0   \n",
       "The 1975 / Chocolate     0            0        0  ...     0        0      0   \n",
       "The 1975 / Sex           0            0        0  ...     0        0      0   \n",
       "\n",
       "                       wonky  word  yacht  york  yoruba  zamrock  zeuhl  \n",
       "artistSong                                                               \n",
       "The 1975 / The 1975        0     0      0     0       0        0      0  \n",
       "The 1975 / The City        0     0      0     0       0        0      0  \n",
       "The 1975 / M.O.N.E.Y.      0     0      0     0       0        0      0  \n",
       "The 1975 / Chocolate       0     0      0     0       0        0      0  \n",
       "The 1975 / Sex             0     0      0     0       0        0      0  \n",
       "\n",
       "[5 rows x 340 columns]"
      ]
     },
     "execution_count": 29,
     "metadata": {},
     "output_type": "execute_result"
    }
   ],
   "source": [
    "feature_matrix_genre.head()"
   ]
  },
  {
   "cell_type": "code",
   "execution_count": 30,
   "metadata": {
    "ExecuteTime": {
     "end_time": "2020-03-19T09:36:29.668382Z",
     "start_time": "2020-03-19T09:36:29.647565Z"
    }
   },
   "outputs": [
    {
     "data": {
      "text/html": [
       "<div>\n",
       "<style scoped>\n",
       "    .dataframe tbody tr th:only-of-type {\n",
       "        vertical-align: middle;\n",
       "    }\n",
       "\n",
       "    .dataframe tbody tr th {\n",
       "        vertical-align: top;\n",
       "    }\n",
       "\n",
       "    .dataframe thead th {\n",
       "        text-align: right;\n",
       "    }\n",
       "</style>\n",
       "<table border=\"1\" class=\"dataframe\">\n",
       "  <thead>\n",
       "    <tr style=\"text-align: right;\">\n",
       "      <th></th>\n",
       "      <th>c0</th>\n",
       "      <th>c1</th>\n",
       "      <th>c10</th>\n",
       "      <th>c11</th>\n",
       "      <th>c12</th>\n",
       "      <th>c13</th>\n",
       "      <th>c14</th>\n",
       "      <th>c15</th>\n",
       "      <th>c16</th>\n",
       "      <th>c17</th>\n",
       "      <th>...</th>\n",
       "      <th>c29</th>\n",
       "      <th>c3</th>\n",
       "      <th>c30</th>\n",
       "      <th>c31</th>\n",
       "      <th>c4</th>\n",
       "      <th>c5</th>\n",
       "      <th>c6</th>\n",
       "      <th>c7</th>\n",
       "      <th>c8</th>\n",
       "      <th>c9</th>\n",
       "    </tr>\n",
       "    <tr>\n",
       "      <th>artistSong</th>\n",
       "      <th></th>\n",
       "      <th></th>\n",
       "      <th></th>\n",
       "      <th></th>\n",
       "      <th></th>\n",
       "      <th></th>\n",
       "      <th></th>\n",
       "      <th></th>\n",
       "      <th></th>\n",
       "      <th></th>\n",
       "      <th></th>\n",
       "      <th></th>\n",
       "      <th></th>\n",
       "      <th></th>\n",
       "      <th></th>\n",
       "      <th></th>\n",
       "      <th></th>\n",
       "      <th></th>\n",
       "      <th></th>\n",
       "      <th></th>\n",
       "      <th></th>\n",
       "    </tr>\n",
       "  </thead>\n",
       "  <tbody>\n",
       "    <tr>\n",
       "      <th>The 1975 / The 1975</th>\n",
       "      <td>0</td>\n",
       "      <td>0</td>\n",
       "      <td>0</td>\n",
       "      <td>0</td>\n",
       "      <td>0</td>\n",
       "      <td>0</td>\n",
       "      <td>0</td>\n",
       "      <td>0</td>\n",
       "      <td>0</td>\n",
       "      <td>0</td>\n",
       "      <td>...</td>\n",
       "      <td>0</td>\n",
       "      <td>0</td>\n",
       "      <td>0</td>\n",
       "      <td>0</td>\n",
       "      <td>0</td>\n",
       "      <td>0</td>\n",
       "      <td>0</td>\n",
       "      <td>0</td>\n",
       "      <td>0</td>\n",
       "      <td>0</td>\n",
       "    </tr>\n",
       "    <tr>\n",
       "      <th>The 1975 / The City</th>\n",
       "      <td>0</td>\n",
       "      <td>0</td>\n",
       "      <td>0</td>\n",
       "      <td>0</td>\n",
       "      <td>0</td>\n",
       "      <td>0</td>\n",
       "      <td>0</td>\n",
       "      <td>0</td>\n",
       "      <td>0</td>\n",
       "      <td>0</td>\n",
       "      <td>...</td>\n",
       "      <td>0</td>\n",
       "      <td>0</td>\n",
       "      <td>0</td>\n",
       "      <td>0</td>\n",
       "      <td>0</td>\n",
       "      <td>0</td>\n",
       "      <td>0</td>\n",
       "      <td>1</td>\n",
       "      <td>0</td>\n",
       "      <td>0</td>\n",
       "    </tr>\n",
       "    <tr>\n",
       "      <th>The 1975 / M.O.N.E.Y.</th>\n",
       "      <td>0</td>\n",
       "      <td>0</td>\n",
       "      <td>0</td>\n",
       "      <td>0</td>\n",
       "      <td>0</td>\n",
       "      <td>0</td>\n",
       "      <td>0</td>\n",
       "      <td>0</td>\n",
       "      <td>0</td>\n",
       "      <td>0</td>\n",
       "      <td>...</td>\n",
       "      <td>0</td>\n",
       "      <td>0</td>\n",
       "      <td>0</td>\n",
       "      <td>0</td>\n",
       "      <td>0</td>\n",
       "      <td>0</td>\n",
       "      <td>0</td>\n",
       "      <td>0</td>\n",
       "      <td>0</td>\n",
       "      <td>0</td>\n",
       "    </tr>\n",
       "    <tr>\n",
       "      <th>The 1975 / Chocolate</th>\n",
       "      <td>0</td>\n",
       "      <td>0</td>\n",
       "      <td>0</td>\n",
       "      <td>0</td>\n",
       "      <td>0</td>\n",
       "      <td>0</td>\n",
       "      <td>0</td>\n",
       "      <td>0</td>\n",
       "      <td>0</td>\n",
       "      <td>0</td>\n",
       "      <td>...</td>\n",
       "      <td>0</td>\n",
       "      <td>0</td>\n",
       "      <td>0</td>\n",
       "      <td>0</td>\n",
       "      <td>0</td>\n",
       "      <td>0</td>\n",
       "      <td>1</td>\n",
       "      <td>0</td>\n",
       "      <td>0</td>\n",
       "      <td>0</td>\n",
       "    </tr>\n",
       "    <tr>\n",
       "      <th>The 1975 / Sex</th>\n",
       "      <td>0</td>\n",
       "      <td>0</td>\n",
       "      <td>0</td>\n",
       "      <td>1</td>\n",
       "      <td>0</td>\n",
       "      <td>0</td>\n",
       "      <td>0</td>\n",
       "      <td>0</td>\n",
       "      <td>0</td>\n",
       "      <td>0</td>\n",
       "      <td>...</td>\n",
       "      <td>0</td>\n",
       "      <td>0</td>\n",
       "      <td>0</td>\n",
       "      <td>0</td>\n",
       "      <td>0</td>\n",
       "      <td>0</td>\n",
       "      <td>0</td>\n",
       "      <td>0</td>\n",
       "      <td>0</td>\n",
       "      <td>0</td>\n",
       "    </tr>\n",
       "  </tbody>\n",
       "</table>\n",
       "<p>5 rows × 32 columns</p>\n",
       "</div>"
      ],
      "text/plain": [
       "                       c0  c1  c10  c11  c12  c13  c14  c15  c16  c17  ...  \\\n",
       "artistSong                                                             ...   \n",
       "The 1975 / The 1975     0   0    0    0    0    0    0    0    0    0  ...   \n",
       "The 1975 / The City     0   0    0    0    0    0    0    0    0    0  ...   \n",
       "The 1975 / M.O.N.E.Y.   0   0    0    0    0    0    0    0    0    0  ...   \n",
       "The 1975 / Chocolate    0   0    0    0    0    0    0    0    0    0  ...   \n",
       "The 1975 / Sex          0   0    0    1    0    0    0    0    0    0  ...   \n",
       "\n",
       "                       c29  c3  c30  c31  c4  c5  c6  c7  c8  c9  \n",
       "artistSong                                                        \n",
       "The 1975 / The 1975      0   0    0    0   0   0   0   0   0   0  \n",
       "The 1975 / The City      0   0    0    0   0   0   0   1   0   0  \n",
       "The 1975 / M.O.N.E.Y.    0   0    0    0   0   0   0   0   0   0  \n",
       "The 1975 / Chocolate     0   0    0    0   0   0   1   0   0   0  \n",
       "The 1975 / Sex           0   0    0    0   0   0   0   0   0   0  \n",
       "\n",
       "[5 rows x 32 columns]"
      ]
     },
     "execution_count": 30,
     "metadata": {},
     "output_type": "execute_result"
    }
   ],
   "source": [
    "feature_matrix_clusters.head()"
   ]
  },
  {
   "cell_type": "markdown",
   "metadata": {},
   "source": [
    "We now have necessary features to compute similarity scores."
   ]
  },
  {
   "cell_type": "markdown",
   "metadata": {},
   "source": [
    "Now lets create out user-item matrices."
   ]
  },
  {
   "cell_type": "code",
   "execution_count": 58,
   "metadata": {
    "ExecuteTime": {
     "end_time": "2020-03-19T10:23:07.094774Z",
     "start_time": "2020-03-19T10:23:06.456068Z"
    }
   },
   "outputs": [],
   "source": [
    "df['artistAlbum'] = df['artistName'] + ' / ' +df['albumName']\n",
    "user_item_matrix = pd.pivot_table(df, values='score', index=['profileId'], columns=['artistAlbum'])"
   ]
  },
  {
   "cell_type": "code",
   "execution_count": 192,
   "metadata": {
    "ExecuteTime": {
     "end_time": "2020-03-19T19:01:16.735858Z",
     "start_time": "2020-03-19T19:01:16.715711Z"
    }
   },
   "outputs": [
    {
     "data": {
      "text/html": [
       "<div>\n",
       "<style scoped>\n",
       "    .dataframe tbody tr th:only-of-type {\n",
       "        vertical-align: middle;\n",
       "    }\n",
       "\n",
       "    .dataframe tbody tr th {\n",
       "        vertical-align: top;\n",
       "    }\n",
       "\n",
       "    .dataframe thead th {\n",
       "        text-align: right;\n",
       "    }\n",
       "</style>\n",
       "<table border=\"1\" class=\"dataframe\">\n",
       "  <thead>\n",
       "    <tr style=\"text-align: right;\">\n",
       "      <th>artistAlbum</th>\n",
       "      <th>16 Horsepower / Sackcloth 'n' Ashes</th>\n",
       "      <th>16 Horsepower / Secret South</th>\n",
       "      <th>2 Chainz / Based on a T.R.U. Story</th>\n",
       "      <th>2 Chainz / COLLEGROVE</th>\n",
       "      <th>2 Chainz / Daniel Son; Necklace Don</th>\n",
       "      <th>2 Chainz / Felt Like Cappin</th>\n",
       "      <th>2 Chainz / Pretty Girls Like Trap Music</th>\n",
       "      <th>2 Chainz / Rap or Go to the League</th>\n",
       "      <th>2 Chainz / The Play Don't Care Who Makes It</th>\n",
       "      <th>21 Savage / I Am &gt; I Was</th>\n",
       "    </tr>\n",
       "    <tr>\n",
       "      <th>profileId</th>\n",
       "      <th></th>\n",
       "      <th></th>\n",
       "      <th></th>\n",
       "      <th></th>\n",
       "      <th></th>\n",
       "      <th></th>\n",
       "      <th></th>\n",
       "      <th></th>\n",
       "      <th></th>\n",
       "      <th></th>\n",
       "    </tr>\n",
       "  </thead>\n",
       "  <tbody>\n",
       "    <tr>\n",
       "      <th>37.0</th>\n",
       "      <td>NaN</td>\n",
       "      <td>NaN</td>\n",
       "      <td>NaN</td>\n",
       "      <td>NaN</td>\n",
       "      <td>NaN</td>\n",
       "      <td>NaN</td>\n",
       "      <td>NaN</td>\n",
       "      <td>NaN</td>\n",
       "      <td>NaN</td>\n",
       "      <td>NaN</td>\n",
       "    </tr>\n",
       "    <tr>\n",
       "      <th>38.0</th>\n",
       "      <td>NaN</td>\n",
       "      <td>NaN</td>\n",
       "      <td>NaN</td>\n",
       "      <td>NaN</td>\n",
       "      <td>NaN</td>\n",
       "      <td>NaN</td>\n",
       "      <td>NaN</td>\n",
       "      <td>NaN</td>\n",
       "      <td>NaN</td>\n",
       "      <td>NaN</td>\n",
       "    </tr>\n",
       "    <tr>\n",
       "      <th>39.0</th>\n",
       "      <td>NaN</td>\n",
       "      <td>NaN</td>\n",
       "      <td>NaN</td>\n",
       "      <td>NaN</td>\n",
       "      <td>NaN</td>\n",
       "      <td>NaN</td>\n",
       "      <td>NaN</td>\n",
       "      <td>NaN</td>\n",
       "      <td>NaN</td>\n",
       "      <td>NaN</td>\n",
       "    </tr>\n",
       "    <tr>\n",
       "      <th>40.0</th>\n",
       "      <td>NaN</td>\n",
       "      <td>NaN</td>\n",
       "      <td>NaN</td>\n",
       "      <td>NaN</td>\n",
       "      <td>NaN</td>\n",
       "      <td>NaN</td>\n",
       "      <td>NaN</td>\n",
       "      <td>NaN</td>\n",
       "      <td>NaN</td>\n",
       "      <td>NaN</td>\n",
       "    </tr>\n",
       "    <tr>\n",
       "      <th>41.0</th>\n",
       "      <td>NaN</td>\n",
       "      <td>NaN</td>\n",
       "      <td>NaN</td>\n",
       "      <td>NaN</td>\n",
       "      <td>NaN</td>\n",
       "      <td>NaN</td>\n",
       "      <td>NaN</td>\n",
       "      <td>NaN</td>\n",
       "      <td>NaN</td>\n",
       "      <td>NaN</td>\n",
       "    </tr>\n",
       "    <tr>\n",
       "      <th>42.0</th>\n",
       "      <td>3.5</td>\n",
       "      <td>4.0</td>\n",
       "      <td>NaN</td>\n",
       "      <td>NaN</td>\n",
       "      <td>NaN</td>\n",
       "      <td>NaN</td>\n",
       "      <td>NaN</td>\n",
       "      <td>NaN</td>\n",
       "      <td>NaN</td>\n",
       "      <td>NaN</td>\n",
       "    </tr>\n",
       "    <tr>\n",
       "      <th>43.0</th>\n",
       "      <td>NaN</td>\n",
       "      <td>NaN</td>\n",
       "      <td>NaN</td>\n",
       "      <td>NaN</td>\n",
       "      <td>NaN</td>\n",
       "      <td>NaN</td>\n",
       "      <td>NaN</td>\n",
       "      <td>NaN</td>\n",
       "      <td>NaN</td>\n",
       "      <td>NaN</td>\n",
       "    </tr>\n",
       "    <tr>\n",
       "      <th>44.0</th>\n",
       "      <td>NaN</td>\n",
       "      <td>NaN</td>\n",
       "      <td>NaN</td>\n",
       "      <td>NaN</td>\n",
       "      <td>NaN</td>\n",
       "      <td>NaN</td>\n",
       "      <td>NaN</td>\n",
       "      <td>3.0</td>\n",
       "      <td>NaN</td>\n",
       "      <td>3.5</td>\n",
       "    </tr>\n",
       "    <tr>\n",
       "      <th>45.0</th>\n",
       "      <td>NaN</td>\n",
       "      <td>NaN</td>\n",
       "      <td>NaN</td>\n",
       "      <td>NaN</td>\n",
       "      <td>NaN</td>\n",
       "      <td>NaN</td>\n",
       "      <td>NaN</td>\n",
       "      <td>NaN</td>\n",
       "      <td>NaN</td>\n",
       "      <td>NaN</td>\n",
       "    </tr>\n",
       "    <tr>\n",
       "      <th>46.0</th>\n",
       "      <td>NaN</td>\n",
       "      <td>NaN</td>\n",
       "      <td>NaN</td>\n",
       "      <td>NaN</td>\n",
       "      <td>NaN</td>\n",
       "      <td>NaN</td>\n",
       "      <td>NaN</td>\n",
       "      <td>NaN</td>\n",
       "      <td>NaN</td>\n",
       "      <td>NaN</td>\n",
       "    </tr>\n",
       "  </tbody>\n",
       "</table>\n",
       "</div>"
      ],
      "text/plain": [
       "artistAlbum  16 Horsepower / Sackcloth 'n' Ashes  \\\n",
       "profileId                                          \n",
       "37.0                                         NaN   \n",
       "38.0                                         NaN   \n",
       "39.0                                         NaN   \n",
       "40.0                                         NaN   \n",
       "41.0                                         NaN   \n",
       "42.0                                         3.5   \n",
       "43.0                                         NaN   \n",
       "44.0                                         NaN   \n",
       "45.0                                         NaN   \n",
       "46.0                                         NaN   \n",
       "\n",
       "artistAlbum  16 Horsepower / Secret South  2 Chainz / Based on a T.R.U. Story  \\\n",
       "profileId                                                                       \n",
       "37.0                                  NaN                                 NaN   \n",
       "38.0                                  NaN                                 NaN   \n",
       "39.0                                  NaN                                 NaN   \n",
       "40.0                                  NaN                                 NaN   \n",
       "41.0                                  NaN                                 NaN   \n",
       "42.0                                  4.0                                 NaN   \n",
       "43.0                                  NaN                                 NaN   \n",
       "44.0                                  NaN                                 NaN   \n",
       "45.0                                  NaN                                 NaN   \n",
       "46.0                                  NaN                                 NaN   \n",
       "\n",
       "artistAlbum  2 Chainz / COLLEGROVE  2 Chainz / Daniel Son; Necklace Don  \\\n",
       "profileId                                                                 \n",
       "37.0                           NaN                                  NaN   \n",
       "38.0                           NaN                                  NaN   \n",
       "39.0                           NaN                                  NaN   \n",
       "40.0                           NaN                                  NaN   \n",
       "41.0                           NaN                                  NaN   \n",
       "42.0                           NaN                                  NaN   \n",
       "43.0                           NaN                                  NaN   \n",
       "44.0                           NaN                                  NaN   \n",
       "45.0                           NaN                                  NaN   \n",
       "46.0                           NaN                                  NaN   \n",
       "\n",
       "artistAlbum  2 Chainz / Felt Like Cappin  \\\n",
       "profileId                                  \n",
       "37.0                                 NaN   \n",
       "38.0                                 NaN   \n",
       "39.0                                 NaN   \n",
       "40.0                                 NaN   \n",
       "41.0                                 NaN   \n",
       "42.0                                 NaN   \n",
       "43.0                                 NaN   \n",
       "44.0                                 NaN   \n",
       "45.0                                 NaN   \n",
       "46.0                                 NaN   \n",
       "\n",
       "artistAlbum  2 Chainz / Pretty Girls Like Trap Music  \\\n",
       "profileId                                              \n",
       "37.0                                             NaN   \n",
       "38.0                                             NaN   \n",
       "39.0                                             NaN   \n",
       "40.0                                             NaN   \n",
       "41.0                                             NaN   \n",
       "42.0                                             NaN   \n",
       "43.0                                             NaN   \n",
       "44.0                                             NaN   \n",
       "45.0                                             NaN   \n",
       "46.0                                             NaN   \n",
       "\n",
       "artistAlbum  2 Chainz / Rap or Go to the League  \\\n",
       "profileId                                         \n",
       "37.0                                        NaN   \n",
       "38.0                                        NaN   \n",
       "39.0                                        NaN   \n",
       "40.0                                        NaN   \n",
       "41.0                                        NaN   \n",
       "42.0                                        NaN   \n",
       "43.0                                        NaN   \n",
       "44.0                                        3.0   \n",
       "45.0                                        NaN   \n",
       "46.0                                        NaN   \n",
       "\n",
       "artistAlbum  2 Chainz / The Play Don't Care Who Makes It  \\\n",
       "profileId                                                  \n",
       "37.0                                                 NaN   \n",
       "38.0                                                 NaN   \n",
       "39.0                                                 NaN   \n",
       "40.0                                                 NaN   \n",
       "41.0                                                 NaN   \n",
       "42.0                                                 NaN   \n",
       "43.0                                                 NaN   \n",
       "44.0                                                 NaN   \n",
       "45.0                                                 NaN   \n",
       "46.0                                                 NaN   \n",
       "\n",
       "artistAlbum  21 Savage / I Am > I Was  \n",
       "profileId                              \n",
       "37.0                              NaN  \n",
       "38.0                              NaN  \n",
       "39.0                              NaN  \n",
       "40.0                              NaN  \n",
       "41.0                              NaN  \n",
       "42.0                              NaN  \n",
       "43.0                              NaN  \n",
       "44.0                              3.5  \n",
       "45.0                              NaN  \n",
       "46.0                              NaN  "
      ]
     },
     "execution_count": 192,
     "metadata": {},
     "output_type": "execute_result"
    }
   ],
   "source": [
    "user_item_matrix.iloc[20:30,20:30]"
   ]
  },
  {
   "cell_type": "markdown",
   "metadata": {},
   "source": [
    "## Collaborative Filtering"
   ]
  },
  {
   "cell_type": "code",
   "execution_count": 61,
   "metadata": {
    "ExecuteTime": {
     "end_time": "2020-03-19T10:23:35.845116Z",
     "start_time": "2020-03-19T10:23:35.839246Z"
    }
   },
   "outputs": [],
   "source": [
    "reader = sur.Reader(rating_scale=(0.5, 5))"
   ]
  },
  {
   "cell_type": "code",
   "execution_count": 74,
   "metadata": {
    "ExecuteTime": {
     "end_time": "2020-03-19T10:28:39.866268Z",
     "start_time": "2020-03-19T10:28:39.849335Z"
    }
   },
   "outputs": [],
   "source": [
    "# Follow surprise data structuring\n",
    "ratings_df = df[['profileId', 'artistAlbum', 'score']]"
   ]
  },
  {
   "cell_type": "code",
   "execution_count": 78,
   "metadata": {
    "ExecuteTime": {
     "end_time": "2020-03-19T10:29:18.644541Z",
     "start_time": "2020-03-19T10:29:18.524432Z"
    }
   },
   "outputs": [],
   "source": [
    "ratings_df = ratings_df.drop_duplicates()"
   ]
  },
  {
   "cell_type": "code",
   "execution_count": 79,
   "metadata": {
    "ExecuteTime": {
     "end_time": "2020-03-19T10:29:26.057168Z",
     "start_time": "2020-03-19T10:29:25.966542Z"
    }
   },
   "outputs": [],
   "source": [
    "sur_df = sur.Dataset.load_from_df(ratings_df, reader)"
   ]
  },
  {
   "cell_type": "code",
   "execution_count": 83,
   "metadata": {
    "ExecuteTime": {
     "end_time": "2020-03-19T10:29:55.602852Z",
     "start_time": "2020-03-19T10:29:55.595717Z"
    }
   },
   "outputs": [],
   "source": [
    "def get_top_n(predictions, n=10):\n",
    "    #Return the top-N recommendation for each user from a set of predictions.\n",
    "    top_n = defaultdict(list)\n",
    "    for uid, iid, true_r, est, _ in predictions:\n",
    "        top_n[uid].append((iid, est))\n",
    "\n",
    "    for uid, user_ratings in top_n.items():\n",
    "        user_ratings.sort(key=lambda x: x[1], reverse=True)\n",
    "        top_n[uid] = user_ratings[:n]\n",
    "\n",
    "    return top_n"
   ]
  },
  {
   "cell_type": "markdown",
   "metadata": {},
   "source": [
    "## Cross validation"
   ]
  },
  {
   "cell_type": "code",
   "execution_count": 87,
   "metadata": {
    "ExecuteTime": {
     "end_time": "2020-03-19T10:32:18.715899Z",
     "start_time": "2020-03-19T10:32:18.546527Z"
    }
   },
   "outputs": [
    {
     "name": "stdout",
     "output_type": "stream",
     "text": [
      "36046\n",
      "4006\n"
     ]
    }
   ],
   "source": [
    "# Prep data\n",
    "raw_ratings = sur_df.raw_ratings\n",
    "np.random.seed(1)\n",
    "random.shuffle(raw_ratings)\n",
    "\n",
    "threshold = int(.9 * len(raw_ratings))\n",
    "train_raw_ratings = raw_ratings[:threshold]\n",
    "test_raw_ratings = raw_ratings[threshold:]\n",
    "\n",
    "print(len(train_raw_ratings))\n",
    "print(len(test_raw_ratings))\n",
    "\n",
    "sur_df.raw_ratings = train_raw_ratings"
   ]
  },
  {
   "cell_type": "code",
   "execution_count": 89,
   "metadata": {
    "ExecuteTime": {
     "end_time": "2020-03-19T10:32:33.562679Z",
     "start_time": "2020-03-19T10:32:22.995900Z"
    }
   },
   "outputs": [
    {
     "data": {
      "text/html": [
       "<div>\n",
       "<style scoped>\n",
       "    .dataframe tbody tr th:only-of-type {\n",
       "        vertical-align: middle;\n",
       "    }\n",
       "\n",
       "    .dataframe tbody tr th {\n",
       "        vertical-align: top;\n",
       "    }\n",
       "\n",
       "    .dataframe thead th {\n",
       "        text-align: right;\n",
       "    }\n",
       "</style>\n",
       "<table border=\"1\" class=\"dataframe\">\n",
       "  <thead>\n",
       "    <tr style=\"text-align: right;\">\n",
       "      <th></th>\n",
       "      <th>test_rmse</th>\n",
       "      <th>test_mae</th>\n",
       "      <th>fit_time</th>\n",
       "      <th>test_time</th>\n",
       "    </tr>\n",
       "  </thead>\n",
       "  <tbody>\n",
       "    <tr>\n",
       "      <th>0</th>\n",
       "      <td>0.769266</td>\n",
       "      <td>0.574846</td>\n",
       "      <td>1.952060</td>\n",
       "      <td>0.057540</td>\n",
       "    </tr>\n",
       "    <tr>\n",
       "      <th>1</th>\n",
       "      <td>0.768046</td>\n",
       "      <td>0.575571</td>\n",
       "      <td>2.091896</td>\n",
       "      <td>0.057610</td>\n",
       "    </tr>\n",
       "    <tr>\n",
       "      <th>2</th>\n",
       "      <td>0.746425</td>\n",
       "      <td>0.560696</td>\n",
       "      <td>2.053629</td>\n",
       "      <td>0.058731</td>\n",
       "    </tr>\n",
       "    <tr>\n",
       "      <th>3</th>\n",
       "      <td>0.766948</td>\n",
       "      <td>0.572032</td>\n",
       "      <td>1.915489</td>\n",
       "      <td>0.057056</td>\n",
       "    </tr>\n",
       "    <tr>\n",
       "      <th>4</th>\n",
       "      <td>0.741494</td>\n",
       "      <td>0.560375</td>\n",
       "      <td>1.885668</td>\n",
       "      <td>0.057548</td>\n",
       "    </tr>\n",
       "  </tbody>\n",
       "</table>\n",
       "</div>"
      ],
      "text/plain": [
       "   test_rmse  test_mae  fit_time  test_time\n",
       "0   0.769266  0.574846  1.952060   0.057540\n",
       "1   0.768046  0.575571  2.091896   0.057610\n",
       "2   0.746425  0.560696  2.053629   0.058731\n",
       "3   0.766948  0.572032  1.915489   0.057056\n",
       "4   0.741494  0.560375  1.885668   0.057548"
      ]
     },
     "execution_count": 89,
     "metadata": {},
     "output_type": "execute_result"
    }
   ],
   "source": [
    "cv_results = sur.model_selection.cross_validate(\n",
    "    algo, sur_df, measures=['RMSE', 'MAE'], cv=5)\n",
    "pd.DataFrame(cv_results)"
   ]
  },
  {
   "cell_type": "code",
   "execution_count": 193,
   "metadata": {
    "ExecuteTime": {
     "end_time": "2020-03-19T19:03:35.964765Z",
     "start_time": "2020-03-19T19:02:29.691245Z"
    }
   },
   "outputs": [
    {
     "name": "stdout",
     "output_type": "stream",
     "text": [
      "Training score    RMSE: 0.3417\n",
      "Test score (rated items)  RMSE: 0.7346\n",
      "Test score (unrated items)    "
     ]
    },
    {
     "data": {
      "text/plain": [
       "0.635544320298279"
      ]
     },
     "execution_count": 193,
     "metadata": {},
     "output_type": "execute_result"
    }
   ],
   "source": [
    "\n",
    "param_grid = {'n_epochs': [5, 10, 15, 20],\n",
    "              'lr_all': [0.001, 0.002, 0.005, 0.01]}\n",
    "\n",
    "grid_search = sur.model_selection.GridSearchCV(sur.SVD,\n",
    "                                               param_grid,\n",
    "                                               measures=['rmse'],\n",
    "                                               cv=3,\n",
    "                                               refit=True)\n",
    "\n",
    "\n",
    "grid_search.fit(sur_df)\n",
    "\n",
    "\n",
    "algo = grid_search.best_estimator['rmse']\n",
    "\n",
    "# retrain on the whole set A\n",
    "trainset = sur_df.build_full_trainset()\n",
    "algo.fit(trainset)\n",
    "\n",
    "# Compute score on training set\n",
    "trainset_build = trainset.build_testset()\n",
    "predictions_train = algo.test(trainset_build)\n",
    "print('Training score ', end='   ')\n",
    "sur.accuracy.rmse(predictions_train)\n",
    "\n",
    "# Compute score on rated test set\n",
    "testset = sur_df.construct_testset(test_raw_ratings)  # testset is now the set B\n",
    "predictions_test = algo.test(testset)\n",
    "print('Test score (rated items) ', end=' ')\n",
    "sur.accuracy.rmse(predictions_test)\n",
    "\n",
    "# Compute score on unrated data\n",
    "# The anti-test set is the part where we did not have any ratings\n",
    "no_ratings = trainset.build_anti_testset()\n",
    "predictions_no_ratings = algo.test(no_ratings)\n",
    "print('Test score (unrated items) ', end='   ')\n",
    "sur.accuracy.rmse(predictions_no_ratings, verbose=False)"
   ]
  },
  {
   "cell_type": "code",
   "execution_count": 96,
   "metadata": {
    "ExecuteTime": {
     "end_time": "2020-03-19T10:41:26.335625Z",
     "start_time": "2020-03-19T10:41:26.328179Z"
    }
   },
   "outputs": [],
   "source": [
    "df_pred = pd.DataFrame([(x.r_ui, x.est) for x in predictions_test],\n",
    "                       columns=['Rating', 'Predicted'])"
   ]
  },
  {
   "cell_type": "code",
   "execution_count": 104,
   "metadata": {
    "ExecuteTime": {
     "end_time": "2020-03-19T10:43:15.482051Z",
     "start_time": "2020-03-19T10:43:15.232476Z"
    }
   },
   "outputs": [
    {
     "data": {
      "image/png": "[encoded data removed]",
      "text/plain": [
       "<Figure size 576x360 with 1 Axes>"
      ]
     },
     "metadata": {
      "needs_background": "light"
     },
     "output_type": "display_data"
    }
   ],
   "source": [
    "import matplotlib.pyplot as plt\n",
    "fig, ax = plt.subplots(figsize = (8,5))\n",
    "df_pred.Rating.hist(alpha = 0.5, color = 'red');\n",
    "df_pred.Predicted.hist(alpha = 0.5, color = 'blue');"
   ]
  },
  {
   "cell_type": "code",
   "execution_count": 105,
   "metadata": {
    "ExecuteTime": {
     "end_time": "2020-03-19T10:43:27.061654Z",
     "start_time": "2020-03-19T10:43:27.057443Z"
    }
   },
   "outputs": [
    {
     "name": "stdout",
     "output_type": "stream",
     "text": [
      "36046 4006 443914\n"
     ]
    }
   ],
   "source": [
    "print(len(trainset_build), len(testset), len(no_ratings))"
   ]
  },
  {
   "cell_type": "code",
   "execution_count": 112,
   "metadata": {
    "ExecuteTime": {
     "end_time": "2020-03-19T11:09:18.435624Z",
     "start_time": "2020-03-19T11:09:18.427973Z"
    }
   },
   "outputs": [],
   "source": [
    "predicted_ratings = get_top_n(predictions_test, 25)"
   ]
  },
  {
   "cell_type": "markdown",
   "metadata": {},
   "source": [
    "Lets check the consistency of our predicted ratings for users against out clusters."
   ]
  },
  {
   "cell_type": "code",
   "execution_count": 139,
   "metadata": {
    "ExecuteTime": {
     "end_time": "2020-03-19T11:30:02.696555Z",
     "start_time": "2020-03-19T11:30:02.590230Z"
    }
   },
   "outputs": [],
   "source": [
    "clusters_dict = (df[['artistAlbum', 'clusters']].drop_duplicates(subset = ['artistAlbum'])).set_index('artistAlbum').to_dict()['clusters']"
   ]
  },
  {
   "cell_type": "code",
   "execution_count": 141,
   "metadata": {
    "ExecuteTime": {
     "end_time": "2020-03-19T11:30:42.645803Z",
     "start_time": "2020-03-19T11:30:42.538269Z"
    }
   },
   "outputs": [],
   "source": [
    "genre_dict = (df[['artistAlbum', 'genreName']].drop_duplicates(subset = ['artistAlbum'])).set_index('artistAlbum').to_dict()['genreName']"
   ]
  },
  {
   "cell_type": "code",
   "execution_count": 149,
   "metadata": {
    "ExecuteTime": {
     "end_time": "2020-03-19T11:36:38.018302Z",
     "start_time": "2020-03-19T11:36:38.004583Z"
    }
   },
   "outputs": [],
   "source": [
    "pred_ratings = []\n",
    "for key in predicted_ratings.keys():\n",
    "    for album in predicted_ratings[key]:\n",
    "        pred_ratings.append([key, album[0], clusters_dict[album[0]], genre_dict[album[0]], round(album[1],3)])"
   ]
  },
  {
   "cell_type": "code",
   "execution_count": 152,
   "metadata": {
    "ExecuteTime": {
     "end_time": "2020-03-19T11:37:47.030840Z",
     "start_time": "2020-03-19T11:37:47.024953Z"
    }
   },
   "outputs": [],
   "source": [
    "pred_ratings = pd.DataFrame(pred_ratings, columns = ['user', 'album', 'cluster', 'genre', 'rating'])"
   ]
  },
  {
   "cell_type": "code",
   "execution_count": 221,
   "metadata": {
    "ExecuteTime": {
     "end_time": "2020-03-19T19:40:45.782243Z",
     "start_time": "2020-03-19T19:40:45.330642Z"
    }
   },
   "outputs": [],
   "source": [
    "# Lets look at our predictions for each user by most popular genre and cluster\n",
    "fav_music = []\n",
    "for user in pred_ratings['user'].unique():\n",
    "    clusts = pred_ratings[pred_ratings['user']==user]['cluster']\n",
    "    genres = pred_ratings[pred_ratings['user']==user]['genre']\n",
    "    fav_music.append([user,\n",
    "           float(clusts.value_counts()[:1].values/25),\n",
    "           int(clusts.value_counts()[:1].index.values),\n",
    "           float(genres.value_counts()[:1].values/25),\n",
    "           (genres.value_counts()[:1].index.values[0])])"
   ]
  },
  {
   "cell_type": "code",
   "execution_count": 223,
   "metadata": {
    "ExecuteTime": {
     "end_time": "2020-03-19T19:41:08.219978Z",
     "start_time": "2020-03-19T19:41:08.210476Z"
    }
   },
   "outputs": [
    {
     "data": {
      "text/plain": [
       "15    8\n",
       "30    8\n",
       "28    6\n",
       "20    6\n",
       "11    5\n",
       "25    4\n",
       "24    3\n",
       "22    3\n",
       "8     3\n",
       "1     2\n",
       "2     2\n",
       "6     2\n",
       "7     2\n",
       "9     2\n",
       "31    2\n",
       "21    2\n",
       "23    2\n",
       "0     2\n",
       "10    1\n",
       "13    1\n",
       "18    1\n",
       "19    1\n",
       "3     1\n",
       "27    1\n",
       "Name: 2, dtype: int64"
      ]
     },
     "execution_count": 223,
     "metadata": {},
     "output_type": "execute_result"
    }
   ],
   "source": [
    "# Diversity of clusters\n",
    "pd.DataFrame(fav_music)[2].value_counts()"
   ]
  },
  {
   "cell_type": "markdown",
   "metadata": {},
   "source": [
    "## Content-based Recommendations"
   ]
  },
  {
   "cell_type": "code",
   "execution_count": 29,
   "metadata": {
    "ExecuteTime": {
     "end_time": "2020-03-16T09:48:23.953301Z",
     "start_time": "2020-03-16T09:48:23.949619Z"
    }
   },
   "outputs": [],
   "source": [
    "from sklearn.metrics.pairwise import cosine_similarity"
   ]
  },
  {
   "cell_type": "code",
   "execution_count": 30,
   "metadata": {
    "ExecuteTime": {
     "end_time": "2020-03-16T09:55:35.101941Z",
     "start_time": "2020-03-16T09:48:30.362876Z"
    }
   },
   "outputs": [],
   "source": [
    "cosine_sim_genre = cosine_similarity(feature_matrix_genre, feature_matrix_genre)"
   ]
  },
  {
   "cell_type": "code",
   "execution_count": null,
   "metadata": {
    "ExecuteTime": {
     "start_time": "2020-03-16T10:19:09.463Z"
    }
   },
   "outputs": [],
   "source": [
    "cosine_sim_clusters = cosine_similarity(feature_matrix_clusters, feature_matrix_clusters)"
   ]
  },
  {
   "cell_type": "code",
   "execution_count": 38,
   "metadata": {
    "ExecuteTime": {
     "end_time": "2020-03-16T09:58:39.076274Z",
     "start_time": "2020-03-16T09:58:39.070193Z"
    }
   },
   "outputs": [],
   "source": [
    "def get_similar_by_cosine(album, reccs, by, cosine_sim):    \n",
    "    \n",
    "    indices = pd.Series(by.index)\n",
    "    recommended_albums = []\n",
    "    idx = indices[indices == album].index[0]\n",
    "\n",
    "    score_series = pd.Series(cosine_sim[idx]).sort_values(ascending = False)\n",
    "\n",
    "    top_10_indexes = list(score_series.iloc[1:reccs].index)\n",
    "    \n",
    "    for i in top_10_indexes:\n",
    "        recommended_albums.append(list(by.index)[i])\n",
    "        \n",
    "    return recommended_albums"
   ]
  },
  {
   "cell_type": "code",
   "execution_count": 40,
   "metadata": {
    "ExecuteTime": {
     "end_time": "2020-03-16T10:18:06.700280Z",
     "start_time": "2020-03-16T10:18:06.600330Z"
    }
   },
   "outputs": [
    {
     "data": {
      "text/plain": [
       "[\"Ice-T / 6 'N the Mornin'\",\n",
       " \"Ice-T / Somebody Gotta Do It (Pimpin' Ain't Easy!!!)\",\n",
       " 'Ice-T / 409',\n",
       " 'Ice-T / I Love Ladies']"
      ]
     },
     "execution_count": 40,
     "metadata": {},
     "output_type": "execute_result"
    }
   ],
   "source": [
    "get_similar_by_cosine(\"Kendrick Lamar / DUCKWORTH.\", 5, feature_matrix_genre, cosine_sim_genre)"
   ]
  },
  {
   "cell_type": "code",
   "execution_count": 42,
   "metadata": {
    "ExecuteTime": {
     "end_time": "2020-03-16T10:18:48.740544Z",
     "start_time": "2020-03-16T10:18:48.590979Z"
    }
   },
   "outputs": [
    {
     "data": {
      "text/plain": [
       "['Miles Davis / So What - Live at Kurhaus, Den Haag, Holland - April 1960',\n",
       " 'Miles Davis / On Green Dolphin Street',\n",
       " 'Miles Davis / Orbits',\n",
       " 'Miles Davis / Fran-Dance']"
      ]
     },
     "execution_count": 42,
     "metadata": {},
     "output_type": "execute_result"
    }
   ],
   "source": [
    "get_similar_by_cosine(\"Miles Davis / So What\", 5, feature_matrix_genre, cosine_sim_genre)"
   ]
  },
  {
   "cell_type": "code",
   "execution_count": 43,
   "metadata": {
    "ExecuteTime": {
     "end_time": "2020-03-04T19:15:37.233423Z",
     "start_time": "2020-03-04T19:15:36.455907Z"
    }
   },
   "outputs": [
    {
     "data": {
      "text/plain": [
       "['EARL / Earl Sweatshirt',\n",
       " 'Russian Roulette / The Alchemist',\n",
       " 'Facade Records / Domo Genesis',\n",
       " 'The Predator / Ice Cube',\n",
       " 'No One Can Do It Better / The D.O.C.',\n",
       " 'Habits & Contradictions / ScHoolboy Q',\n",
       " 'Saturation / Brockhampton',\n",
       " 'Soul on Ice / Ras Kass',\n",
       " 'No Shame / Hopsin']"
      ]
     },
     "execution_count": 43,
     "metadata": {},
     "output_type": "execute_result"
    }
   ],
   "source": [
    "get_similar_by_cosine(\"DAMN. / Kendrick Lamar\", 10, feature_matrix_genre)"
   ]
  },
  {
   "cell_type": "code",
   "execution_count": 45,
   "metadata": {
    "ExecuteTime": {
     "end_time": "2020-03-04T19:19:42.548604Z",
     "start_time": "2020-03-04T19:19:42.214359Z"
    }
   },
   "outputs": [
    {
     "data": {
      "text/plain": [
       "['New Morning / Bob Dylan',\n",
       " 'John Wesley Harding / Bob Dylan',\n",
       " 'The Beekeeper / Tori Amos',\n",
       " 'New Magnetic Wonder / The Apples in Stereo',\n",
       " 'American IV: The Man Comes Around / Johnny Cash',\n",
       " 'Cryptograms / Deerhunter',\n",
       " 'Juju / Wayne Shorter',\n",
       " 'Volta / Björk',\n",
       " 'Seasons End / Marillion']"
      ]
     },
     "execution_count": 45,
     "metadata": {},
     "output_type": "execute_result"
    }
   ],
   "source": [
    "get_similar_by_cosine(\"Kind of Blue / Miles Davis\", 10, feature_matrix_clusters)"
   ]
  },
  {
   "cell_type": "markdown",
   "metadata": {},
   "source": [
    "# LightFM"
   ]
  },
  {
   "cell_type": "code",
   "execution_count": 27,
   "metadata": {
    "ExecuteTime": {
     "end_time": "2020-02-25T15:50:11.816540Z",
     "start_time": "2020-02-25T15:50:11.798689Z"
    }
   },
   "outputs": [],
   "source": [
    "import lightfm\n",
    "from scipy import sparse\n",
    "from lightfm.evaluation import precision_at_k\n",
    "from lightfm.evaluation import auc_score"
   ]
  },
  {
   "cell_type": "code",
   "execution_count": 87,
   "metadata": {
    "ExecuteTime": {
     "end_time": "2020-02-26T20:00:51.412386Z",
     "start_time": "2020-02-26T20:00:50.834106Z"
    }
   },
   "outputs": [],
   "source": [
    "albums_by_cluster = df[['albumId', 'albumArtist', 'albumCluster']].drop_duplicates()\n",
    "albums_by_genre = df[['albumId', 'albumArtist', 'genreName']].drop_duplicates()\n",
    "ratings = df[['profileId', 'albumId', 'score']].drop_duplicates()"
   ]
  },
  {
   "cell_type": "code",
   "execution_count": null,
   "metadata": {
    "ExecuteTime": {
     "end_time": "2020-02-25T15:46:58.012700Z",
     "start_time": "2020-02-25T15:46:41.513Z"
    }
   },
   "outputs": [],
   "source": [
    "albums_by_cluster"
   ]
  },
  {
   "cell_type": "code",
   "execution_count": 117,
   "metadata": {
    "ExecuteTime": {
     "end_time": "2020-02-25T16:27:43.618719Z",
     "start_time": "2020-02-25T16:27:43.613883Z"
    }
   },
   "outputs": [],
   "source": [
    "albums_by_cluster['albumCluster'] = albums_by_cluster['albumCluster'].astype(int)"
   ]
  },
  {
   "cell_type": "code",
   "execution_count": 126,
   "metadata": {
    "ExecuteTime": {
     "end_time": "2020-02-25T16:28:40.440331Z",
     "start_time": "2020-02-25T16:28:40.434897Z"
    }
   },
   "outputs": [],
   "source": [
    "def create_lfm_features(dataframe, features_name, id_col_name):\n",
    "    features = dataframe[features_name].apply(lambda x: str(x))\n",
    "    features = features.str.split(',')\n",
    "    features = list(zip(dataframe[id_col_name], features))\n",
    "    return features"
   ]
  },
  {
   "cell_type": "code",
   "execution_count": 127,
   "metadata": {
    "ExecuteTime": {
     "end_time": "2020-02-25T16:28:42.266444Z",
     "start_time": "2020-02-25T16:28:42.238644Z"
    }
   },
   "outputs": [],
   "source": [
    "genre_features = create_lfm_features(albums_by_genre, 'genreName', 'albumId')\n",
    "cluster_features = create_lfm_features(albums_by_cluster, 'albumCluster', 'albumId')"
   ]
  },
  {
   "cell_type": "code",
   "execution_count": 35,
   "metadata": {
    "ExecuteTime": {
     "end_time": "2020-02-25T15:50:45.360371Z",
     "start_time": "2020-02-25T15:50:45.351263Z"
    }
   },
   "outputs": [],
   "source": [
    "albums_by_cluster['clusterFeatures'] = cluster_features\n",
    "albums_by_genre['genreFeatures'] = genre_features"
   ]
  },
  {
   "cell_type": "code",
   "execution_count": 48,
   "metadata": {
    "ExecuteTime": {
     "end_time": "2020-02-25T16:00:52.588322Z",
     "start_time": "2020-02-25T16:00:52.577383Z"
    }
   },
   "outputs": [],
   "source": [
    "from lightfm.data import Dataset"
   ]
  },
  {
   "cell_type": "markdown",
   "metadata": {},
   "source": [
    "Do we want nulls or 0's?"
   ]
  },
  {
   "cell_type": "code",
   "execution_count": 39,
   "metadata": {
    "ExecuteTime": {
     "end_time": "2020-02-25T15:51:21.171087Z",
     "start_time": "2020-02-25T15:51:19.477047Z"
    }
   },
   "outputs": [],
   "source": [
    "ratings_df_interaction = ratings_df.applymap(lambda x: x if float(x)>0 else 0)"
   ]
  },
  {
   "cell_type": "code",
   "execution_count": 40,
   "metadata": {
    "ExecuteTime": {
     "end_time": "2020-02-25T15:51:23.241040Z",
     "start_time": "2020-02-25T15:51:23.202879Z"
    }
   },
   "outputs": [
    {
     "data": {
      "text/html": [
       "<div>\n",
       "<style scoped>\n",
       "    .dataframe tbody tr th:only-of-type {\n",
       "        vertical-align: middle;\n",
       "    }\n",
       "\n",
       "    .dataframe tbody tr th {\n",
       "        vertical-align: top;\n",
       "    }\n",
       "\n",
       "    .dataframe thead th {\n",
       "        text-align: right;\n",
       "    }\n",
       "</style>\n",
       "<table border=\"1\" class=\"dataframe\">\n",
       "  <thead>\n",
       "    <tr style=\"text-align: right;\">\n",
       "      <th>albumArtist</th>\n",
       "      <th>\"...Famous Last Words...\" / Supertramp</th>\n",
       "      <th>\"Awaken, My Love!\" / Childish Gambino</th>\n",
       "      <th>\"Charlie\" / Melt-Banana</th>\n",
       "      <th>\"Drunk\" / Thundercat</th>\n",
       "      <th>\"F**k You!\" / Cee Lo Green</th>\n",
       "      <th>\"Heroes\" / David Bowie</th>\n",
       "      <th>\"Junior\" / Röyksopp</th>\n",
       "      <th>\"Love and Theft\" / Bob Dylan</th>\n",
       "      <th>\"Luciferian Towers\" / Godspeed You! Black Emperor</th>\n",
       "      <th>\"The Spaghetti Incident?\" / Guns n' Roses</th>\n",
       "      <th>...</th>\n",
       "      <th>ye / Kanye West</th>\n",
       "      <th>¡Dos! / Green Day</th>\n",
       "      <th>¡Tré! / Green Day</th>\n",
       "      <th>¡Uno! / Green Day</th>\n",
       "      <th>½ Mensch / Einstürzende Neubauten</th>\n",
       "      <th>África Brasil / Jorge Ben</th>\n",
       "      <th>Ágætis byrjun / Sigur Rós</th>\n",
       "      <th>Ænima / Tool</th>\n",
       "      <th>Écailles de lune / Alcest</th>\n",
       "      <th>÷ / Ed Sheeran</th>\n",
       "    </tr>\n",
       "    <tr>\n",
       "      <th>profileId</th>\n",
       "      <th></th>\n",
       "      <th></th>\n",
       "      <th></th>\n",
       "      <th></th>\n",
       "      <th></th>\n",
       "      <th></th>\n",
       "      <th></th>\n",
       "      <th></th>\n",
       "      <th></th>\n",
       "      <th></th>\n",
       "      <th></th>\n",
       "      <th></th>\n",
       "      <th></th>\n",
       "      <th></th>\n",
       "      <th></th>\n",
       "      <th></th>\n",
       "      <th></th>\n",
       "      <th></th>\n",
       "      <th></th>\n",
       "      <th></th>\n",
       "      <th></th>\n",
       "    </tr>\n",
       "  </thead>\n",
       "  <tbody>\n",
       "    <tr>\n",
       "      <th>1.0</th>\n",
       "      <td>0.0</td>\n",
       "      <td>0.0</td>\n",
       "      <td>0.0</td>\n",
       "      <td>0.0</td>\n",
       "      <td>0.0</td>\n",
       "      <td>0.0</td>\n",
       "      <td>0.0</td>\n",
       "      <td>0.0</td>\n",
       "      <td>0.0</td>\n",
       "      <td>0.0</td>\n",
       "      <td>...</td>\n",
       "      <td>0.0</td>\n",
       "      <td>0.0</td>\n",
       "      <td>0.0</td>\n",
       "      <td>0.0</td>\n",
       "      <td>0.0</td>\n",
       "      <td>0.0</td>\n",
       "      <td>0.0</td>\n",
       "      <td>0.0</td>\n",
       "      <td>0.0</td>\n",
       "      <td>0.0</td>\n",
       "    </tr>\n",
       "    <tr>\n",
       "      <th>2.0</th>\n",
       "      <td>0.0</td>\n",
       "      <td>0.0</td>\n",
       "      <td>0.0</td>\n",
       "      <td>3.0</td>\n",
       "      <td>0.0</td>\n",
       "      <td>4.0</td>\n",
       "      <td>0.0</td>\n",
       "      <td>0.0</td>\n",
       "      <td>4.0</td>\n",
       "      <td>0.0</td>\n",
       "      <td>...</td>\n",
       "      <td>3.0</td>\n",
       "      <td>0.0</td>\n",
       "      <td>0.0</td>\n",
       "      <td>0.0</td>\n",
       "      <td>0.0</td>\n",
       "      <td>0.0</td>\n",
       "      <td>4.5</td>\n",
       "      <td>0.0</td>\n",
       "      <td>2.5</td>\n",
       "      <td>0.0</td>\n",
       "    </tr>\n",
       "    <tr>\n",
       "      <th>3.0</th>\n",
       "      <td>0.0</td>\n",
       "      <td>0.0</td>\n",
       "      <td>0.0</td>\n",
       "      <td>0.0</td>\n",
       "      <td>0.0</td>\n",
       "      <td>0.0</td>\n",
       "      <td>0.0</td>\n",
       "      <td>0.0</td>\n",
       "      <td>0.0</td>\n",
       "      <td>0.0</td>\n",
       "      <td>...</td>\n",
       "      <td>0.0</td>\n",
       "      <td>0.0</td>\n",
       "      <td>0.0</td>\n",
       "      <td>0.0</td>\n",
       "      <td>0.0</td>\n",
       "      <td>0.0</td>\n",
       "      <td>0.0</td>\n",
       "      <td>5.0</td>\n",
       "      <td>4.5</td>\n",
       "      <td>0.0</td>\n",
       "    </tr>\n",
       "    <tr>\n",
       "      <th>4.0</th>\n",
       "      <td>0.0</td>\n",
       "      <td>0.0</td>\n",
       "      <td>0.0</td>\n",
       "      <td>0.0</td>\n",
       "      <td>0.0</td>\n",
       "      <td>4.0</td>\n",
       "      <td>0.0</td>\n",
       "      <td>0.0</td>\n",
       "      <td>0.0</td>\n",
       "      <td>0.0</td>\n",
       "      <td>...</td>\n",
       "      <td>0.0</td>\n",
       "      <td>0.0</td>\n",
       "      <td>0.0</td>\n",
       "      <td>0.0</td>\n",
       "      <td>0.0</td>\n",
       "      <td>5.0</td>\n",
       "      <td>3.0</td>\n",
       "      <td>0.0</td>\n",
       "      <td>0.0</td>\n",
       "      <td>0.0</td>\n",
       "    </tr>\n",
       "    <tr>\n",
       "      <th>5.0</th>\n",
       "      <td>0.0</td>\n",
       "      <td>0.0</td>\n",
       "      <td>0.0</td>\n",
       "      <td>0.0</td>\n",
       "      <td>0.0</td>\n",
       "      <td>0.0</td>\n",
       "      <td>0.0</td>\n",
       "      <td>0.0</td>\n",
       "      <td>0.0</td>\n",
       "      <td>0.0</td>\n",
       "      <td>...</td>\n",
       "      <td>0.0</td>\n",
       "      <td>0.0</td>\n",
       "      <td>0.0</td>\n",
       "      <td>0.0</td>\n",
       "      <td>0.0</td>\n",
       "      <td>0.0</td>\n",
       "      <td>0.0</td>\n",
       "      <td>0.0</td>\n",
       "      <td>4.0</td>\n",
       "      <td>0.0</td>\n",
       "    </tr>\n",
       "    <tr>\n",
       "      <th>...</th>\n",
       "      <td>...</td>\n",
       "      <td>...</td>\n",
       "      <td>...</td>\n",
       "      <td>...</td>\n",
       "      <td>...</td>\n",
       "      <td>...</td>\n",
       "      <td>...</td>\n",
       "      <td>...</td>\n",
       "      <td>...</td>\n",
       "      <td>...</td>\n",
       "      <td>...</td>\n",
       "      <td>...</td>\n",
       "      <td>...</td>\n",
       "      <td>...</td>\n",
       "      <td>...</td>\n",
       "      <td>...</td>\n",
       "      <td>...</td>\n",
       "      <td>...</td>\n",
       "      <td>...</td>\n",
       "      <td>...</td>\n",
       "      <td>...</td>\n",
       "    </tr>\n",
       "    <tr>\n",
       "      <th>83.0</th>\n",
       "      <td>0.0</td>\n",
       "      <td>0.0</td>\n",
       "      <td>0.0</td>\n",
       "      <td>0.0</td>\n",
       "      <td>0.0</td>\n",
       "      <td>0.0</td>\n",
       "      <td>0.0</td>\n",
       "      <td>0.0</td>\n",
       "      <td>0.0</td>\n",
       "      <td>0.0</td>\n",
       "      <td>...</td>\n",
       "      <td>0.0</td>\n",
       "      <td>0.0</td>\n",
       "      <td>0.0</td>\n",
       "      <td>0.0</td>\n",
       "      <td>0.0</td>\n",
       "      <td>0.0</td>\n",
       "      <td>0.0</td>\n",
       "      <td>0.0</td>\n",
       "      <td>4.5</td>\n",
       "      <td>0.0</td>\n",
       "    </tr>\n",
       "    <tr>\n",
       "      <th>84.0</th>\n",
       "      <td>0.0</td>\n",
       "      <td>0.0</td>\n",
       "      <td>0.0</td>\n",
       "      <td>0.0</td>\n",
       "      <td>0.0</td>\n",
       "      <td>0.0</td>\n",
       "      <td>0.0</td>\n",
       "      <td>0.0</td>\n",
       "      <td>0.0</td>\n",
       "      <td>0.0</td>\n",
       "      <td>...</td>\n",
       "      <td>4.0</td>\n",
       "      <td>0.0</td>\n",
       "      <td>0.0</td>\n",
       "      <td>0.0</td>\n",
       "      <td>0.0</td>\n",
       "      <td>0.0</td>\n",
       "      <td>0.0</td>\n",
       "      <td>0.0</td>\n",
       "      <td>0.0</td>\n",
       "      <td>0.0</td>\n",
       "    </tr>\n",
       "    <tr>\n",
       "      <th>85.0</th>\n",
       "      <td>4.0</td>\n",
       "      <td>4.0</td>\n",
       "      <td>0.0</td>\n",
       "      <td>4.0</td>\n",
       "      <td>0.0</td>\n",
       "      <td>4.5</td>\n",
       "      <td>4.0</td>\n",
       "      <td>0.0</td>\n",
       "      <td>4.0</td>\n",
       "      <td>0.0</td>\n",
       "      <td>...</td>\n",
       "      <td>4.0</td>\n",
       "      <td>2.5</td>\n",
       "      <td>2.5</td>\n",
       "      <td>3.0</td>\n",
       "      <td>0.0</td>\n",
       "      <td>0.0</td>\n",
       "      <td>5.0</td>\n",
       "      <td>0.0</td>\n",
       "      <td>0.0</td>\n",
       "      <td>3.5</td>\n",
       "    </tr>\n",
       "    <tr>\n",
       "      <th>86.0</th>\n",
       "      <td>0.0</td>\n",
       "      <td>0.0</td>\n",
       "      <td>0.0</td>\n",
       "      <td>0.0</td>\n",
       "      <td>0.0</td>\n",
       "      <td>0.0</td>\n",
       "      <td>0.0</td>\n",
       "      <td>0.0</td>\n",
       "      <td>0.0</td>\n",
       "      <td>0.0</td>\n",
       "      <td>...</td>\n",
       "      <td>1.5</td>\n",
       "      <td>0.0</td>\n",
       "      <td>0.0</td>\n",
       "      <td>0.0</td>\n",
       "      <td>0.0</td>\n",
       "      <td>0.0</td>\n",
       "      <td>0.0</td>\n",
       "      <td>0.0</td>\n",
       "      <td>0.0</td>\n",
       "      <td>0.0</td>\n",
       "    </tr>\n",
       "    <tr>\n",
       "      <th>87.0</th>\n",
       "      <td>0.0</td>\n",
       "      <td>4.5</td>\n",
       "      <td>0.0</td>\n",
       "      <td>0.0</td>\n",
       "      <td>0.0</td>\n",
       "      <td>4.5</td>\n",
       "      <td>0.0</td>\n",
       "      <td>0.0</td>\n",
       "      <td>0.0</td>\n",
       "      <td>0.0</td>\n",
       "      <td>...</td>\n",
       "      <td>0.0</td>\n",
       "      <td>0.0</td>\n",
       "      <td>0.0</td>\n",
       "      <td>0.0</td>\n",
       "      <td>0.0</td>\n",
       "      <td>0.0</td>\n",
       "      <td>0.0</td>\n",
       "      <td>0.0</td>\n",
       "      <td>0.0</td>\n",
       "      <td>0.0</td>\n",
       "    </tr>\n",
       "  </tbody>\n",
       "</table>\n",
       "<p>71 rows × 6802 columns</p>\n",
       "</div>"
      ],
      "text/plain": [
       "albumArtist  \"...Famous Last Words...\" / Supertramp  \\\n",
       "profileId                                             \n",
       "1.0                                             0.0   \n",
       "2.0                                             0.0   \n",
       "3.0                                             0.0   \n",
       "4.0                                             0.0   \n",
       "5.0                                             0.0   \n",
       "...                                             ...   \n",
       "83.0                                            0.0   \n",
       "84.0                                            0.0   \n",
       "85.0                                            4.0   \n",
       "86.0                                            0.0   \n",
       "87.0                                            0.0   \n",
       "\n",
       "albumArtist  \"Awaken, My Love!\" / Childish Gambino  \"Charlie\" / Melt-Banana  \\\n",
       "profileId                                                                     \n",
       "1.0                                            0.0                      0.0   \n",
       "2.0                                            0.0                      0.0   \n",
       "3.0                                            0.0                      0.0   \n",
       "4.0                                            0.0                      0.0   \n",
       "5.0                                            0.0                      0.0   \n",
       "...                                            ...                      ...   \n",
       "83.0                                           0.0                      0.0   \n",
       "84.0                                           0.0                      0.0   \n",
       "85.0                                           4.0                      0.0   \n",
       "86.0                                           0.0                      0.0   \n",
       "87.0                                           4.5                      0.0   \n",
       "\n",
       "albumArtist  \"Drunk\" / Thundercat  \"F**k You!\" / Cee Lo Green  \\\n",
       "profileId                                                       \n",
       "1.0                           0.0                         0.0   \n",
       "2.0                           3.0                         0.0   \n",
       "3.0                           0.0                         0.0   \n",
       "4.0                           0.0                         0.0   \n",
       "5.0                           0.0                         0.0   \n",
       "...                           ...                         ...   \n",
       "83.0                          0.0                         0.0   \n",
       "84.0                          0.0                         0.0   \n",
       "85.0                          4.0                         0.0   \n",
       "86.0                          0.0                         0.0   \n",
       "87.0                          0.0                         0.0   \n",
       "\n",
       "albumArtist  \"Heroes\" / David Bowie  \"Junior\" / Röyksopp  \\\n",
       "profileId                                                  \n",
       "1.0                             0.0                  0.0   \n",
       "2.0                             4.0                  0.0   \n",
       "3.0                             0.0                  0.0   \n",
       "4.0                             4.0                  0.0   \n",
       "5.0                             0.0                  0.0   \n",
       "...                             ...                  ...   \n",
       "83.0                            0.0                  0.0   \n",
       "84.0                            0.0                  0.0   \n",
       "85.0                            4.5                  4.0   \n",
       "86.0                            0.0                  0.0   \n",
       "87.0                            4.5                  0.0   \n",
       "\n",
       "albumArtist  \"Love and Theft\" / Bob Dylan  \\\n",
       "profileId                                   \n",
       "1.0                                   0.0   \n",
       "2.0                                   0.0   \n",
       "3.0                                   0.0   \n",
       "4.0                                   0.0   \n",
       "5.0                                   0.0   \n",
       "...                                   ...   \n",
       "83.0                                  0.0   \n",
       "84.0                                  0.0   \n",
       "85.0                                  0.0   \n",
       "86.0                                  0.0   \n",
       "87.0                                  0.0   \n",
       "\n",
       "albumArtist  \"Luciferian Towers\" / Godspeed You! Black Emperor  \\\n",
       "profileId                                                        \n",
       "1.0                                                        0.0   \n",
       "2.0                                                        4.0   \n",
       "3.0                                                        0.0   \n",
       "4.0                                                        0.0   \n",
       "5.0                                                        0.0   \n",
       "...                                                        ...   \n",
       "83.0                                                       0.0   \n",
       "84.0                                                       0.0   \n",
       "85.0                                                       4.0   \n",
       "86.0                                                       0.0   \n",
       "87.0                                                       0.0   \n",
       "\n",
       "albumArtist  \"The Spaghetti Incident?\" / Guns n' Roses  ...  ye / Kanye West  \\\n",
       "profileId                                               ...                    \n",
       "1.0                                                0.0  ...              0.0   \n",
       "2.0                                                0.0  ...              3.0   \n",
       "3.0                                                0.0  ...              0.0   \n",
       "4.0                                                0.0  ...              0.0   \n",
       "5.0                                                0.0  ...              0.0   \n",
       "...                                                ...  ...              ...   \n",
       "83.0                                               0.0  ...              0.0   \n",
       "84.0                                               0.0  ...              4.0   \n",
       "85.0                                               0.0  ...              4.0   \n",
       "86.0                                               0.0  ...              1.5   \n",
       "87.0                                               0.0  ...              0.0   \n",
       "\n",
       "albumArtist  ¡Dos! / Green Day  ¡Tré! / Green Day  ¡Uno! / Green Day  \\\n",
       "profileId                                                              \n",
       "1.0                        0.0                0.0                0.0   \n",
       "2.0                        0.0                0.0                0.0   \n",
       "3.0                        0.0                0.0                0.0   \n",
       "4.0                        0.0                0.0                0.0   \n",
       "5.0                        0.0                0.0                0.0   \n",
       "...                        ...                ...                ...   \n",
       "83.0                       0.0                0.0                0.0   \n",
       "84.0                       0.0                0.0                0.0   \n",
       "85.0                       2.5                2.5                3.0   \n",
       "86.0                       0.0                0.0                0.0   \n",
       "87.0                       0.0                0.0                0.0   \n",
       "\n",
       "albumArtist  ½ Mensch / Einstürzende Neubauten  África Brasil / Jorge Ben  \\\n",
       "profileId                                                                   \n",
       "1.0                                        0.0                        0.0   \n",
       "2.0                                        0.0                        0.0   \n",
       "3.0                                        0.0                        0.0   \n",
       "4.0                                        0.0                        5.0   \n",
       "5.0                                        0.0                        0.0   \n",
       "...                                        ...                        ...   \n",
       "83.0                                       0.0                        0.0   \n",
       "84.0                                       0.0                        0.0   \n",
       "85.0                                       0.0                        0.0   \n",
       "86.0                                       0.0                        0.0   \n",
       "87.0                                       0.0                        0.0   \n",
       "\n",
       "albumArtist  Ágætis byrjun / Sigur Rós  Ænima / Tool  \\\n",
       "profileId                                              \n",
       "1.0                                0.0           0.0   \n",
       "2.0                                4.5           0.0   \n",
       "3.0                                0.0           5.0   \n",
       "4.0                                3.0           0.0   \n",
       "5.0                                0.0           0.0   \n",
       "...                                ...           ...   \n",
       "83.0                               0.0           0.0   \n",
       "84.0                               0.0           0.0   \n",
       "85.0                               5.0           0.0   \n",
       "86.0                               0.0           0.0   \n",
       "87.0                               0.0           0.0   \n",
       "\n",
       "albumArtist  Écailles de lune / Alcest  ÷ / Ed Sheeran  \n",
       "profileId                                               \n",
       "1.0                                0.0             0.0  \n",
       "2.0                                2.5             0.0  \n",
       "3.0                                4.5             0.0  \n",
       "4.0                                0.0             0.0  \n",
       "5.0                                4.0             0.0  \n",
       "...                                ...             ...  \n",
       "83.0                               4.5             0.0  \n",
       "84.0                               0.0             0.0  \n",
       "85.0                               0.0             3.5  \n",
       "86.0                               0.0             0.0  \n",
       "87.0                               0.0             0.0  \n",
       "\n",
       "[71 rows x 6802 columns]"
      ]
     },
     "execution_count": 40,
     "metadata": {},
     "output_type": "execute_result"
    }
   ],
   "source": [
    "ratings_df_interaction"
   ]
  },
  {
   "cell_type": "code",
   "execution_count": 41,
   "metadata": {
    "ExecuteTime": {
     "end_time": "2020-02-25T15:51:27.888379Z",
     "start_time": "2020-02-25T15:51:27.884765Z"
    }
   },
   "outputs": [],
   "source": [
    "# check suprise docs and use train_ as a boolean above a certain thresh\n",
    "def calculate_precis_score(lightfm_model, interactions_matrix, \n",
    "                        album_features): \n",
    "\n",
    "    score = precision_at_k( \n",
    "        lightfm_model, interactions_matrix, \n",
    "        item_features=album_features, \n",
    "        num_threads=4).mean()\n",
    "    \n",
    "    return score"
   ]
  },
  {
   "cell_type": "code",
   "execution_count": 42,
   "metadata": {
    "ExecuteTime": {
     "end_time": "2020-02-25T15:51:29.728628Z",
     "start_time": "2020-02-25T15:51:29.724392Z"
    }
   },
   "outputs": [],
   "source": [
    "def calculate_auc_score(lightfm_model, interactions_matrix, \n",
    "                        album_features): \n",
    "\n",
    "    score = auc_score( \n",
    "        lightfm_model, interactions_matrix, \n",
    "        item_features=album_features, \n",
    "        num_threads=4).mean()\n",
    "    return score"
   ]
  },
  {
   "cell_type": "code",
   "execution_count": 49,
   "metadata": {
    "ExecuteTime": {
     "end_time": "2020-02-25T16:00:55.846514Z",
     "start_time": "2020-02-25T16:00:55.840042Z"
    }
   },
   "outputs": [],
   "source": [
    "def run_lightfm(var, df, features, epochs = 5):\n",
    "    \n",
    "    dataset = Dataset()\n",
    "    dataset.fit(\n",
    "        users = set(ratings['profileId']), \n",
    "        items = set(df['albumId']),\n",
    "        item_features=list(set(df[var])))\n",
    "    \n",
    "    album_features = dataset.build_item_features(df[features])\n",
    "    \n",
    "    model = lightfm.LightFM(\n",
    "        no_components=10,\n",
    "        learning_rate=0.05,\n",
    "        loss='warp',\n",
    "        random_state=1)\n",
    "\n",
    "    model.fit(sparse.csr_matrix(ratings_df_interaction).tocoo(),\n",
    "        item_features=album_features,\n",
    "        epochs=epochs, num_threads=4, verbose=False)\n",
    "    \n",
    "    return calculate_auc_score(model, sparse.csr_matrix(ratings_df_interaction).tocoo(), album_features)"
   ]
  },
  {
   "cell_type": "code",
   "execution_count": 50,
   "metadata": {
    "ExecuteTime": {
     "end_time": "2020-02-25T16:01:06.343018Z",
     "start_time": "2020-02-25T16:00:57.864550Z"
    }
   },
   "outputs": [],
   "source": [
    "genre_scores = []\n",
    "cluster_scores = []\n",
    "for i in range(10):\n",
    "    genre_scores.append(run_lightfm('genreName', albums_by_genre, 'genreFeatures', i ))\n",
    "    cluster_scores.append(run_lightfm('albumCluster', albums_by_cluster, 'clusterFeatures', i ))"
   ]
  },
  {
   "cell_type": "code",
   "execution_count": 51,
   "metadata": {
    "ExecuteTime": {
     "end_time": "2020-02-25T16:01:08.172703Z",
     "start_time": "2020-02-25T16:01:07.934776Z"
    }
   },
   "outputs": [
    {
     "data": {
      "text/plain": [
       "<matplotlib.axes._subplots.AxesSubplot at 0x1a3273d470>"
      ]
     },
     "execution_count": 51,
     "metadata": {},
     "output_type": "execute_result"
    },
    {
     "data": {
      "image/png": "[encoded data removed]",
      "text/plain": [
       "<Figure size 432x288 with 1 Axes>"
      ]
     },
     "metadata": {
      "needs_background": "light"
     },
     "output_type": "display_data"
    }
   ],
   "source": [
    "sns.lineplot(x = [i for i in range(10)], y = genre_scores, c= 'r')\n",
    "sns.lineplot(x = [i for i in range(10)], y = cluster_scores, c = 'b')"
   ]
  },
  {
   "cell_type": "code",
   "execution_count": 258,
   "metadata": {
    "ExecuteTime": {
     "end_time": "2020-02-24T19:27:55.467897Z",
     "start_time": "2020-02-24T19:27:36.283187Z"
    }
   },
   "outputs": [
    {
     "data": {
      "text/plain": [
       "<matplotlib.axes._subplots.AxesSubplot at 0x1a46797518>"
      ]
     },
     "execution_count": 258,
     "metadata": {},
     "output_type": "execute_result"
    },
    {
     "data": {
      "image/png": "[encoded data removed]",
      "text/plain": [
       "<Figure size 432x288 with 1 Axes>"
      ]
     },
     "metadata": {
      "needs_background": "light"
     },
     "output_type": "display_data"
    }
   ],
   "source": [
    "def run_lightfm(var, df, features, epochs = 5):\n",
    "    \n",
    "    dataset = Dataset()\n",
    "    dataset.fit(\n",
    "        users = set(ratings['profileId']), \n",
    "        items = set(df['albumId']),\n",
    "        item_features=list(set(df[var])))\n",
    "    \n",
    "    album_features = dataset.build_item_features(df[features])\n",
    "    \n",
    "    model = lightfm.LightFM(\n",
    "        no_components=50,\n",
    "        learning_rate=0.05,\n",
    "        loss='warp',\n",
    "        random_state=1)\n",
    "\n",
    "    model.fit(sparse.csr_matrix(ratings_df_interaction).tocoo(),\n",
    "        item_features=album_features,\n",
    "        epochs=epochs, num_threads=4, verbose=False)\n",
    "    \n",
    "    return calculate_precis_score(model, sparse.csr_matrix(ratings_df_interaction).tocoo(), album_features)\n",
    "\n",
    "genre_scores = []\n",
    "cluster_scores = []\n",
    "for i in range(10):\n",
    "    genre_scores.append(run_lightfm('genreName', albums_by_genre, 'genreFeatures', i ))\n",
    "    cluster_scores.append(run_lightfm('albumCluster', albums_by_cluster, 'clusterFeatures', i ))\n",
    "    \n",
    "sns.lineplot(x = [i for i in range(10)], y = genre_scores, c= 'r')\n",
    "sns.lineplot(x = [i for i in range(10)], y = cluster_scores, c = 'b')"
   ]
  },
  {
   "cell_type": "code",
   "execution_count": 113,
   "metadata": {
    "ExecuteTime": {
     "end_time": "2020-02-25T16:26:59.799431Z",
     "start_time": "2020-02-25T16:26:59.794398Z"
    }
   },
   "outputs": [
    {
     "data": {
      "text/plain": [
       "array([(35406, ['14']), (15195, ['14']), (15394, ['16']), ...,\n",
       "       (8660, ['16']), (117, ['16']), (15804, ['2'])], dtype=object)"
      ]
     },
     "execution_count": 113,
     "metadata": {},
     "output_type": "execute_result"
    }
   ],
   "source": [
    "albums_by_cluster['clusterFeatures'].values"
   ]
  },
  {
   "cell_type": "code",
   "execution_count": 129,
   "metadata": {
    "ExecuteTime": {
     "end_time": "2020-02-25T16:34:08.417794Z",
     "start_time": "2020-02-25T16:34:08.338355Z"
    }
   },
   "outputs": [
    {
     "ename": "ValueError",
     "evalue": "Feature 14 not in eature mapping. Call fit first.",
     "output_type": "error",
     "traceback": [
      "\u001b[0;31m---------------------------------------------------------------------------\u001b[0m",
      "\u001b[0;31mValueError\u001b[0m                                Traceback (most recent call last)",
      "\u001b[0;32m<ipython-input-129-52721cbd1c04>\u001b[0m in \u001b[0;36m<module>\u001b[0;34m\u001b[0m\n\u001b[1;32m      6\u001b[0m     item_features = albums_by_cluster['albumCluster'])\n\u001b[1;32m      7\u001b[0m \u001b[0;34m\u001b[0m\u001b[0m\n\u001b[0;32m----> 8\u001b[0;31m \u001b[0malbum_features\u001b[0m \u001b[0;34m=\u001b[0m \u001b[0mdataset\u001b[0m\u001b[0;34m.\u001b[0m\u001b[0mbuild_item_features\u001b[0m\u001b[0;34m(\u001b[0m\u001b[0malbums_by_cluster\u001b[0m\u001b[0;34m[\u001b[0m\u001b[0;34m'clusterFeatures'\u001b[0m\u001b[0;34m]\u001b[0m\u001b[0;34m)\u001b[0m\u001b[0;34m\u001b[0m\u001b[0;34m\u001b[0m\u001b[0m\n\u001b[0m\u001b[1;32m      9\u001b[0m \u001b[0;34m\u001b[0m\u001b[0m\n\u001b[1;32m     10\u001b[0m model = lightfm.LightFM(\n",
      "\u001b[0;32m~/anaconda3/lib/python3.7/site-packages/lightfm/data.py\u001b[0m in \u001b[0;36mbuild_item_features\u001b[0;34m(self, data, normalize)\u001b[0m\n\u001b[1;32m    399\u001b[0m         )\n\u001b[1;32m    400\u001b[0m \u001b[0;34m\u001b[0m\u001b[0m\n\u001b[0;32m--> 401\u001b[0;31m         \u001b[0;32mreturn\u001b[0m \u001b[0mbuilder\u001b[0m\u001b[0;34m.\u001b[0m\u001b[0mbuild\u001b[0m\u001b[0;34m(\u001b[0m\u001b[0mdata\u001b[0m\u001b[0;34m)\u001b[0m\u001b[0;34m\u001b[0m\u001b[0;34m\u001b[0m\u001b[0m\n\u001b[0m\u001b[1;32m    402\u001b[0m \u001b[0;34m\u001b[0m\u001b[0m\n\u001b[1;32m    403\u001b[0m     \u001b[0;32mdef\u001b[0m \u001b[0mmodel_dimensions\u001b[0m\u001b[0;34m(\u001b[0m\u001b[0mself\u001b[0m\u001b[0;34m)\u001b[0m\u001b[0;34m:\u001b[0m\u001b[0;34m\u001b[0m\u001b[0;34m\u001b[0m\u001b[0m\n",
      "\u001b[0;32m~/anaconda3/lib/python3.7/site-packages/lightfm/data.py\u001b[0m in \u001b[0;36mbuild\u001b[0;34m(self, data)\u001b[0m\n\u001b[1;32m    115\u001b[0m \u001b[0;34m\u001b[0m\u001b[0m\n\u001b[1;32m    116\u001b[0m         \u001b[0;32mfor\u001b[0m \u001b[0mdatum\u001b[0m \u001b[0;32min\u001b[0m \u001b[0mdata\u001b[0m\u001b[0;34m:\u001b[0m\u001b[0;34m\u001b[0m\u001b[0;34m\u001b[0m\u001b[0m\n\u001b[0;32m--> 117\u001b[0;31m             \u001b[0;32mfor\u001b[0m \u001b[0;34m(\u001b[0m\u001b[0mentity_idx\u001b[0m\u001b[0;34m,\u001b[0m \u001b[0mfeature_idx\u001b[0m\u001b[0;34m,\u001b[0m \u001b[0mweight\u001b[0m\u001b[0;34m)\u001b[0m \u001b[0;32min\u001b[0m \u001b[0mself\u001b[0m\u001b[0;34m.\u001b[0m\u001b[0m_process_features\u001b[0m\u001b[0;34m(\u001b[0m\u001b[0mdatum\u001b[0m\u001b[0;34m)\u001b[0m\u001b[0;34m:\u001b[0m\u001b[0;34m\u001b[0m\u001b[0;34m\u001b[0m\u001b[0m\n\u001b[0m\u001b[1;32m    118\u001b[0m                 \u001b[0mfeatures\u001b[0m\u001b[0;34m.\u001b[0m\u001b[0mappend\u001b[0m\u001b[0;34m(\u001b[0m\u001b[0mentity_idx\u001b[0m\u001b[0;34m,\u001b[0m \u001b[0mfeature_idx\u001b[0m\u001b[0;34m,\u001b[0m \u001b[0mweight\u001b[0m\u001b[0;34m)\u001b[0m\u001b[0;34m\u001b[0m\u001b[0;34m\u001b[0m\u001b[0m\n\u001b[1;32m    119\u001b[0m \u001b[0;34m\u001b[0m\u001b[0m\n",
      "\u001b[0;32m~/anaconda3/lib/python3.7/site-packages/lightfm/data.py\u001b[0m in \u001b[0;36m_process_features\u001b[0;34m(self, datum)\u001b[0m\n\u001b[1;32m     99\u001b[0m             \u001b[0;32mif\u001b[0m \u001b[0mfeature\u001b[0m \u001b[0;32mnot\u001b[0m \u001b[0;32min\u001b[0m \u001b[0mself\u001b[0m\u001b[0;34m.\u001b[0m\u001b[0m_feature_mapping\u001b[0m\u001b[0;34m:\u001b[0m\u001b[0;34m\u001b[0m\u001b[0;34m\u001b[0m\u001b[0m\n\u001b[1;32m    100\u001b[0m                 raise ValueError(\n\u001b[0;32m--> 101\u001b[0;31m                     \u001b[0;34m\"Feature {} not in eature mapping. \"\u001b[0m \u001b[0;34m\"Call fit first.\"\u001b[0m\u001b[0;34m.\u001b[0m\u001b[0mformat\u001b[0m\u001b[0;34m(\u001b[0m\u001b[0mfeature\u001b[0m\u001b[0;34m)\u001b[0m\u001b[0;34m\u001b[0m\u001b[0;34m\u001b[0m\u001b[0m\n\u001b[0m\u001b[1;32m    102\u001b[0m                 )\n\u001b[1;32m    103\u001b[0m \u001b[0;34m\u001b[0m\u001b[0m\n",
      "\u001b[0;31mValueError\u001b[0m: Feature 14 not in eature mapping. Call fit first."
     ]
    }
   ],
   "source": [
    "# making a perm dataset\n",
    "dataset = Dataset()\n",
    "dataset.fit(\n",
    "    users = (ratings['profileId']), \n",
    "    items = (ratings['albumId']),\n",
    "    item_features = albums_by_cluster['albumCluster'])\n",
    "\n",
    "album_features = dataset.build_item_features(albums_by_cluster['clusterFeatures'])\n",
    "\n",
    "model = lightfm.LightFM(\n",
    "    no_components=50,\n",
    "    learning_rate=0.05,\n",
    "    loss='warp',\n",
    "    random_state=1)\n",
    "\n",
    "model.fit(sparse.csr_matrix(ratings_df_interaction).tocoo(),\n",
    "    item_features=album_features,\n",
    "    epochs=10, num_threads=4, verbose=False)"
   ]
  },
  {
   "cell_type": "code",
   "execution_count": 87,
   "metadata": {
    "ExecuteTime": {
     "end_time": "2020-02-25T16:14:09.907445Z",
     "start_time": "2020-02-25T16:14:09.795874Z"
    }
   },
   "outputs": [
    {
     "data": {
      "text/plain": [
       "array([35406, 35406, 35406, 35406, 35406], dtype=int32)"
      ]
     },
     "execution_count": 87,
     "metadata": {},
     "output_type": "execute_result"
    }
   ],
   "source": [
    "np.array(list(df['albumId']), dtype='int32')[0:5]"
   ]
  },
  {
   "cell_type": "code",
   "execution_count": 88,
   "metadata": {
    "ExecuteTime": {
     "end_time": "2020-02-25T16:14:11.937869Z",
     "start_time": "2020-02-25T16:14:11.933577Z"
    }
   },
   "outputs": [
    {
     "data": {
      "text/plain": [
       "<6802x6822 sparse matrix of type '<class 'numpy.float32'>'\n",
       "\twith 13604 stored elements in Compressed Sparse Row format>"
      ]
     },
     "execution_count": 88,
     "metadata": {},
     "output_type": "execute_result"
    }
   ],
   "source": [
    "album_features"
   ]
  },
  {
   "cell_type": "code",
   "execution_count": 93,
   "metadata": {
    "ExecuteTime": {
     "end_time": "2020-02-25T16:20:53.033945Z",
     "start_time": "2020-02-25T16:20:53.029181Z"
    }
   },
   "outputs": [
    {
     "data": {
      "text/plain": [
       "((40052,), (40052,))"
      ]
     },
     "execution_count": 93,
     "metadata": {},
     "output_type": "execute_result"
    }
   ],
   "source": [
    "ratings.profileId.shape, ratings.albumId.shape"
   ]
  },
  {
   "cell_type": "code",
   "execution_count": 106,
   "metadata": {
    "ExecuteTime": {
     "end_time": "2020-02-25T16:23:59.551779Z",
     "start_time": "2020-02-25T16:23:59.546386Z"
    }
   },
   "outputs": [
    {
     "data": {
      "text/plain": [
       "(6802,)"
      ]
     },
     "execution_count": 106,
     "metadata": {},
     "output_type": "execute_result"
    }
   ],
   "source": [
    "ratings.albumId.unique().shape"
   ]
  },
  {
   "cell_type": "code",
   "execution_count": 97,
   "metadata": {
    "ExecuteTime": {
     "end_time": "2020-02-25T16:22:01.685007Z",
     "start_time": "2020-02-25T16:22:01.678857Z"
    }
   },
   "outputs": [
    {
     "data": {
      "text/plain": [
       "(0     85\n",
       " 9     60\n",
       " 18    42\n",
       " 27    58\n",
       " 36    25\n",
       " Name: profileId, dtype: int64, 0     35406\n",
       " 9     35406\n",
       " 18    35406\n",
       " 27    35406\n",
       " 36    35406\n",
       " Name: albumId, dtype: int64)"
      ]
     },
     "execution_count": 97,
     "metadata": {},
     "output_type": "execute_result"
    }
   ],
   "source": [
    "ratings.profileId[:5].astype(int), ratings.albumId[:5]"
   ]
  },
  {
   "cell_type": "code",
   "execution_count": 109,
   "metadata": {
    "ExecuteTime": {
     "end_time": "2020-02-25T16:24:40.592147Z",
     "start_time": "2020-02-25T16:24:40.587472Z"
    }
   },
   "outputs": [
    {
     "data": {
      "text/plain": [
       "<6822x6802 sparse matrix of type '<class 'numpy.float32'>'\n",
       "\twith 13604 stored elements in Compressed Sparse Column format>"
      ]
     },
     "execution_count": 109,
     "metadata": {},
     "output_type": "execute_result"
    }
   ],
   "source": [
    "album_features.T"
   ]
  },
  {
   "cell_type": "code",
   "execution_count": 112,
   "metadata": {
    "ExecuteTime": {
     "end_time": "2020-02-25T16:26:31.168180Z",
     "start_time": "2020-02-25T16:26:31.148682Z"
    }
   },
   "outputs": [
    {
     "ename": "Exception",
     "evalue": "Number of item feature rows does not equal the number of items",
     "output_type": "error",
     "traceback": [
      "\u001b[0;31m---------------------------------------------------------------------------\u001b[0m",
      "\u001b[0;31mException\u001b[0m                                 Traceback (most recent call last)",
      "\u001b[0;32m<ipython-input-112-30f91c7aa008>\u001b[0m in \u001b[0;36m<module>\u001b[0;34m\u001b[0m\n\u001b[1;32m      1\u001b[0m model.predict(ratings.profileId.astype(int).values,#np.array(list(ratings['profileId']), dtype='int32')[0:album_features.shape[0]],\n\u001b[1;32m      2\u001b[0m               \u001b[0mratings\u001b[0m\u001b[0;34m.\u001b[0m\u001b[0malbumId\u001b[0m\u001b[0;34m.\u001b[0m\u001b[0mvalues\u001b[0m\u001b[0;34m,\u001b[0m\u001b[0;31m#np.array(list(df['albumId']), dtype='int32')[0:album_features.shape[1]],\u001b[0m\u001b[0;34m\u001b[0m\u001b[0;34m\u001b[0m\u001b[0m\n\u001b[0;32m----> 3\u001b[0;31m               \u001b[0mitem_features\u001b[0m\u001b[0;34m=\u001b[0m\u001b[0malbum_features\u001b[0m\u001b[0;34m.\u001b[0m\u001b[0mT\u001b[0m\u001b[0;34m\u001b[0m\u001b[0;34m\u001b[0m\u001b[0m\n\u001b[0m\u001b[1;32m      4\u001b[0m              )\n",
      "\u001b[0;32m~/anaconda3/lib/python3.7/site-packages/lightfm/lightfm.py\u001b[0m in \u001b[0;36mpredict\u001b[0;34m(self, user_ids, item_ids, item_features, user_features, num_threads)\u001b[0m\n\u001b[1;32m    717\u001b[0m                                                            \u001b[0mn_items\u001b[0m\u001b[0;34m,\u001b[0m\u001b[0;34m\u001b[0m\u001b[0;34m\u001b[0m\u001b[0m\n\u001b[1;32m    718\u001b[0m                                                            \u001b[0muser_features\u001b[0m\u001b[0;34m,\u001b[0m\u001b[0;34m\u001b[0m\u001b[0;34m\u001b[0m\u001b[0m\n\u001b[0;32m--> 719\u001b[0;31m                                                            item_features)\n\u001b[0m\u001b[1;32m    720\u001b[0m \u001b[0;34m\u001b[0m\u001b[0m\n\u001b[1;32m    721\u001b[0m         \u001b[0mlightfm_data\u001b[0m \u001b[0;34m=\u001b[0m \u001b[0mself\u001b[0m\u001b[0;34m.\u001b[0m\u001b[0m_get_lightfm_data\u001b[0m\u001b[0;34m(\u001b[0m\u001b[0;34m)\u001b[0m\u001b[0;34m\u001b[0m\u001b[0;34m\u001b[0m\u001b[0m\n",
      "\u001b[0;32m~/anaconda3/lib/python3.7/site-packages/lightfm/lightfm.py\u001b[0m in \u001b[0;36m_construct_feature_matrices\u001b[0;34m(self, n_users, n_items, user_features, item_features)\u001b[0m\n\u001b[1;32m    296\u001b[0m \u001b[0;34m\u001b[0m\u001b[0m\n\u001b[1;32m    297\u001b[0m         \u001b[0;32mif\u001b[0m \u001b[0mn_items\u001b[0m \u001b[0;34m>\u001b[0m \u001b[0mitem_features\u001b[0m\u001b[0;34m.\u001b[0m\u001b[0mshape\u001b[0m\u001b[0;34m[\u001b[0m\u001b[0;36m0\u001b[0m\u001b[0;34m]\u001b[0m\u001b[0;34m:\u001b[0m\u001b[0;34m\u001b[0m\u001b[0;34m\u001b[0m\u001b[0m\n\u001b[0;32m--> 298\u001b[0;31m             raise Exception('Number of item feature rows does not equal '\n\u001b[0m\u001b[1;32m    299\u001b[0m                             'the number of items')\n\u001b[1;32m    300\u001b[0m \u001b[0;34m\u001b[0m\u001b[0m\n",
      "\u001b[0;31mException\u001b[0m: Number of item feature rows does not equal the number of items"
     ]
    }
   ],
   "source": [
    "model.predict(ratings.profileId.astype(int).values,#np.array(list(ratings['profileId']), dtype='int32')[0:album_features.shape[0]],\n",
    "              ratings.albumId.values,#np.array(list(df['albumId']), dtype='int32')[0:album_features.shape[1]],\n",
    "              item_features=album_features.T\n",
    "             )"
   ]
  },
  {
   "cell_type": "code",
   "execution_count": null,
   "metadata": {
    "ExecuteTime": {
     "end_time": "2020-02-25T16:13:00.202074Z",
     "start_time": "2020-02-25T16:12:45.086Z"
    }
   },
   "outputs": [],
   "source": [
    "#my guys old method\n",
    "def recommend_questions(user_ids):\n",
    "     \n",
    "    for user in user_ids:\n",
    "\n",
    "        previous_album_id_num = ratings.loc[ratings['profileId'] == 42]['albumId']\n",
    "        df_previous_albums = ratings.loc[ratings['albumId'].isin(previous_album_id_num)]\n",
    "\n",
    "        discard_album_id = df_previous_albums['albumId'].unique().tolist()\n",
    "        df_use_for_prediction = ratings.loc[~ratings['albumId'].isin(discard_album_id)]\n",
    "        album_id_for_predict = df_use_for_prediction['albumId'].unique().tolist()\n",
    "        \n",
    "        scores = model.predict(([user]*(len(album_id_for_predict))),\n",
    "                               album_id_for_predict,\n",
    "                               item_features=album_features)\n",
    "        \n",
    "        return scores\n",
    "        #df_use_for_prediction['scores'] = scores\n",
    "        #df_use_for_prediction = df_use_for_prediction.sort_values(by='scores', ascending=False)[:8]\n",
    "        #print('Professional Id (' + str(professional) + \"): Recommended Questions: \")\n",
    "        #display(df_use_for_prediction[['questions_title', 'question_features']])"
   ]
  },
  {
   "cell_type": "code",
   "execution_count": 244,
   "metadata": {
    "ExecuteTime": {
     "end_time": "2020-02-24T19:18:23.428086Z",
     "start_time": "2020-02-24T19:18:23.424974Z"
    }
   },
   "outputs": [],
   "source": [
    "#recommend_questions([42.0])"
   ]
  },
  {
   "cell_type": "markdown",
   "metadata": {},
   "source": [
    "Retry!"
   ]
  },
  {
   "cell_type": "code",
   "execution_count": 303,
   "metadata": {
    "ExecuteTime": {
     "end_time": "2020-02-24T19:54:27.634875Z",
     "start_time": "2020-02-24T19:54:27.628343Z"
    }
   },
   "outputs": [],
   "source": [
    "new_ratings_df = ratings_df.reset_index(drop=True)"
   ]
  },
  {
   "cell_type": "code",
   "execution_count": 321,
   "metadata": {
    "ExecuteTime": {
     "end_time": "2020-02-24T20:02:48.994410Z",
     "start_time": "2020-02-24T20:02:48.986644Z"
    }
   },
   "outputs": [],
   "source": [
    "new_album_dict = dict(enumerate(new_ratings_df.columns))\n",
    "new_album_dict = {value:key for key, value in new_album_dict.items()}"
   ]
  },
  {
   "cell_type": "code",
   "execution_count": 323,
   "metadata": {
    "ExecuteTime": {
     "end_time": "2020-02-24T20:03:13.738059Z",
     "start_time": "2020-02-24T20:03:13.717558Z"
    }
   },
   "outputs": [],
   "source": [
    "new_ratings_df.columns = new_ratings_df.columns.to_series().map(new_album_dict)"
   ]
  },
  {
   "cell_type": "code",
   "execution_count": 300,
   "metadata": {
    "ExecuteTime": {
     "end_time": "2020-02-24T19:48:19.588054Z",
     "start_time": "2020-02-24T19:48:19.582633Z"
    }
   },
   "outputs": [
    {
     "name": "stdout",
     "output_type": "stream",
     "text": [
      "[ 0  1  2  3  4  5  6  7  8  9 10 11 12 13 14 15 16 17 18 19 20 21 22 23\n",
      " 24 25 26 27 28 29 30 31 32 33 34 35 36 37 38 39 40 41 42 43 44 45 46 47\n",
      " 48 49 50 51 52 53 54 55 56 57 58 59 60 61 62 63 64 65 66 67 68 69 70] [   0    1    2 ... 6799 6800 6801]\n"
     ]
    }
   ],
   "source": [
    "#albums_by_cluster = df[['albumId', 'albumArtist', 'albumCluster']].drop_duplicates()\n",
    "#albums_by_genre = df[['albumId', 'albumArtist', 'genreName']].drop_duplicates()\n",
    "#ratings = df[['profileId', 'albumId', 'score']].drop_duplicates()\n",
    "\n",
    "# def create_lfm_features(dataframe, features_name, id_col_name):\n",
    "#     features = dataframe[features_name].apply(lambda x: str(x))\n",
    "#     features = features.str.split(',')\n",
    "#     features = list(zip(dataframe[id_col_name], features))\n",
    "#     return features\n",
    "\n",
    "# genre_features = create_lfm_features(albums_by_genre, 'genreName', 'albumId')\n",
    "# cluster_features = create_lfm_features(albums_by_cluster, 'albumCluster', 'albumId')\n",
    "\n",
    "# albums_by_cluster['clusterFeatures'] = cluster_features\n",
    "# albums_by_genre['genreFeatures'] = genre_features\n",
    "\n",
    "# ratings_df_interaction = ratings_df.applymap(lambda x: 1 if float(x)>0 else 0)\n",
    "\n",
    "dataset = Dataset()\n",
    "dataset.fit(\n",
    "    users = set(ratings['profileId']), \n",
    "    items = set(df['albumId']),\n",
    "    item_features = albums_by_cluster['albumCluster'])\n",
    "\n",
    "album_features = dataset.build_item_features(albums_by_cluster['clusterFeatures'])\n",
    "\n",
    "model = lightfm.LightFM(\n",
    "    no_components=50,\n",
    "    learning_rate=0.05,\n",
    "    loss='warp',\n",
    "    random_state=1)\n",
    "\n",
    "model.fit(sparse.csr_matrix(ratings_df_interaction).tocoo(),\n",
    "    item_features=album_features,\n",
    "    epochs=10, num_threads=4, verbose=False)"
   ]
  },
  {
   "cell_type": "code",
   "execution_count": 252,
   "metadata": {
    "ExecuteTime": {
     "end_time": "2020-02-24T19:24:27.308009Z",
     "start_time": "2020-02-24T19:24:27.290383Z"
    }
   },
   "outputs": [
    {
     "ename": "AssertionError",
     "evalue": "",
     "output_type": "error",
     "traceback": [
      "\u001b[0;31m---------------------------------------------------------------------------\u001b[0m",
      "\u001b[0;31mAssertionError\u001b[0m                            Traceback (most recent call last)",
      "\u001b[0;32m<ipython-input-252-b2f4053a2519>\u001b[0m in \u001b[0;36m<module>\u001b[0;34m\u001b[0m\n\u001b[1;32m     10\u001b[0m \u001b[0;34m\u001b[0m\u001b[0m\n\u001b[1;32m     11\u001b[0m     scores = model.predict(np.arange(len(dict_user_id)), np.arange(len(dict_item_id)),\n\u001b[0;32m---> 12\u001b[0;31m                            item_features=album_features)\n\u001b[0m\u001b[1;32m     13\u001b[0m     \u001b[0;31m#top_items = item['item_id'][np.argsort(-scores)]\u001b[0m\u001b[0;34m\u001b[0m\u001b[0;34m\u001b[0m\u001b[0;34m\u001b[0m\u001b[0m\n\u001b[1;32m     14\u001b[0m \u001b[0;34m\u001b[0m\u001b[0m\n",
      "\u001b[0;32m~/anaconda3/lib/python3.7/site-packages/lightfm/lightfm.py\u001b[0m in \u001b[0;36mpredict\u001b[0;34m(self, user_ids, item_ids, item_features, user_features, num_threads)\u001b[0m\n\u001b[1;32m    698\u001b[0m             \u001b[0mitem_ids\u001b[0m \u001b[0;34m=\u001b[0m \u001b[0mnp\u001b[0m\u001b[0;34m.\u001b[0m\u001b[0marray\u001b[0m\u001b[0;34m(\u001b[0m\u001b[0mitem_ids\u001b[0m\u001b[0;34m,\u001b[0m \u001b[0mdtype\u001b[0m\u001b[0;34m=\u001b[0m\u001b[0mnp\u001b[0m\u001b[0;34m.\u001b[0m\u001b[0mint32\u001b[0m\u001b[0;34m)\u001b[0m\u001b[0;34m\u001b[0m\u001b[0;34m\u001b[0m\u001b[0m\n\u001b[1;32m    699\u001b[0m \u001b[0;34m\u001b[0m\u001b[0m\n\u001b[0;32m--> 700\u001b[0;31m         \u001b[0;32massert\u001b[0m \u001b[0mlen\u001b[0m\u001b[0;34m(\u001b[0m\u001b[0muser_ids\u001b[0m\u001b[0;34m)\u001b[0m \u001b[0;34m==\u001b[0m \u001b[0mlen\u001b[0m\u001b[0;34m(\u001b[0m\u001b[0mitem_ids\u001b[0m\u001b[0;34m)\u001b[0m\u001b[0;34m\u001b[0m\u001b[0;34m\u001b[0m\u001b[0m\n\u001b[0m\u001b[1;32m    701\u001b[0m \u001b[0;34m\u001b[0m\u001b[0m\n\u001b[1;32m    702\u001b[0m         \u001b[0;32mif\u001b[0m \u001b[0muser_ids\u001b[0m\u001b[0;34m.\u001b[0m\u001b[0mdtype\u001b[0m \u001b[0;34m!=\u001b[0m \u001b[0mnp\u001b[0m\u001b[0;34m.\u001b[0m\u001b[0mint32\u001b[0m\u001b[0;34m:\u001b[0m\u001b[0;34m\u001b[0m\u001b[0;34m\u001b[0m\u001b[0m\n",
      "\u001b[0;31mAssertionError\u001b[0m: "
     ]
    }
   ],
   "source": [
    "index = ratings['profileId'].unique()\n",
    "mapp = dataset.mapping()\n",
    "dict_user_id = mapp[0]\n",
    "dict_item_id = mapp[2]\n",
    "pid_array = np.arange(len(dict_item_id), dtype=np.int32)\n",
    "d_user_pred = {}\n",
    "\n",
    "for user in dict_user_id.keys():\n",
    "    d_user_pred[user] = []\n",
    "\n",
    "    scores = model.predict(np.arange(len(dict_user_id)), np.arange(len(dict_item_id)),\n",
    "                           item_features=album_features)\n",
    "    #top_items = item['item_id'][np.argsort(-scores)]\n",
    "    \n",
    "    #for index, user_id in dict_user_id.items(): "
   ]
  },
  {
   "cell_type": "code",
   "execution_count": 245,
   "metadata": {
    "ExecuteTime": {
     "end_time": "2020-02-24T19:18:34.348411Z",
     "start_time": "2020-02-24T19:18:34.345069Z"
    }
   },
   "outputs": [],
   "source": [
    "#place zeroes in place of everything that you dont want to include\n",
    "#for user in \n",
    "preds = model.predict(user_ids = 42,\n",
    "                      item_ids = albums_by_cluster['albumId'],\n",
    "                      item_features=album_features)"
   ]
  },
  {
   "cell_type": "code",
   "execution_count": null,
   "metadata": {},
   "outputs": [],
   "source": [
    "tuning params:\n",
    "    param = {'no_components': 314,\n",
    "         'learning_schedule': 'adagrad',\n",
    "         'loss': 'warp-kos',\n",
    "         'learning_rate': 0.010372998003563394,\n",
    "         'item_alpha': 1.0041412735137758e-06, \n",
    "         'user_alpha': 4.364266509627352e-09, \n",
    "         'max_sampled': 20,\n",
    "         'num_epochs': 57}"
   ]
  },
  {
   "cell_type": "code",
   "execution_count": 293,
   "metadata": {
    "ExecuteTime": {
     "end_time": "2020-02-23T18:26:37.233778Z",
     "start_time": "2020-02-23T18:26:37.211084Z"
    }
   },
   "outputs": [],
   "source": [
    "# do we need another matrix for user_features\n",
    "dataset = Dataset()\n",
    "dataset.fit(\n",
    "    users = set(ratings['profileId']), \n",
    "    items = set(albums_by_cluster['albumId']),\n",
    "    item_features=list(set(albums_by_cluster['clusters'])))"
   ]
  },
  {
   "cell_type": "code",
   "execution_count": 294,
   "metadata": {
    "ExecuteTime": {
     "end_time": "2020-02-23T18:26:45.152531Z",
     "start_time": "2020-02-23T18:26:45.103331Z"
    }
   },
   "outputs": [],
   "source": [
    "album_features = dataset.build_item_features(albums_by_cluster['cluster_features'])"
   ]
  },
  {
   "cell_type": "code",
   "execution_count": 255,
   "metadata": {
    "ExecuteTime": {
     "end_time": "2020-02-23T17:25:08.054215Z",
     "start_time": "2020-02-23T17:25:08.050323Z"
    }
   },
   "outputs": [
    {
     "name": "stdout",
     "output_type": "stream",
     "text": [
      "Num users: 71, num_items 6802.\n"
     ]
    }
   ],
   "source": [
    "num_users, num_items = dataset.interactions_shape()\n",
    "print('Num users: {}, num_items {}.'.format(num_users, num_items))"
   ]
  },
  {
   "cell_type": "code",
   "execution_count": 238,
   "metadata": {
    "ExecuteTime": {
     "end_time": "2020-02-23T17:11:17.318746Z",
     "start_time": "2020-02-23T17:11:17.281387Z"
    }
   },
   "outputs": [],
   "source": [
    "# #may need weights in this...\n",
    "# temp_intereact_matrix = list(zip(\n",
    "#     ratings['profileId'], albums_by_cluster['albumId']))\n",
    "\n",
    "# interactions = dataset.build_interactions(   \n",
    "#     temp_intereact_matrix)"
   ]
  },
  {
   "cell_type": "code",
   "execution_count": 316,
   "metadata": {
    "ExecuteTime": {
     "end_time": "2020-02-23T18:45:37.928017Z",
     "start_time": "2020-02-23T18:45:36.902871Z"
    }
   },
   "outputs": [
    {
     "name": "stdout",
     "output_type": "stream",
     "text": [
      "Epoch 0\n",
      "Epoch 1\n"
     ]
    },
    {
     "data": {
      "text/plain": [
       "<lightfm.lightfm.LightFM at 0x1a28ef4710>"
      ]
     },
     "execution_count": 316,
     "metadata": {},
     "output_type": "execute_result"
    }
   ],
   "source": [
    "model = lightfm.LightFM(\n",
    "    no_components=150,\n",
    "    learning_rate=0.05,\n",
    "    loss='warp',\n",
    "    random_state=1)\n",
    "\n",
    "model.fit(sparse.csr_matrix(ratings_df_interaction).tocoo(),\n",
    "    item_features=album_features,\n",
    "    epochs=2, num_threads=4, verbose=True)"
   ]
  },
  {
   "cell_type": "code",
   "execution_count": 317,
   "metadata": {
    "ExecuteTime": {
     "end_time": "2020-02-23T18:45:47.036381Z",
     "start_time": "2020-02-23T18:45:46.850933Z"
    }
   },
   "outputs": [
    {
     "data": {
      "text/plain": [
       "0.8531844"
      ]
     },
     "execution_count": 317,
     "metadata": {},
     "output_type": "execute_result"
    }
   ],
   "source": [
    "calculate_auc_score(model, sparse.csr_matrix(ratings_df_interaction).tocoo(), album_features)"
   ]
  },
  {
   "cell_type": "code",
   "execution_count": 190,
   "metadata": {
    "ExecuteTime": {
     "end_time": "2020-02-23T14:43:46.632771Z",
     "start_time": "2020-02-23T14:43:46.615891Z"
    }
   },
   "outputs": [],
   "source": [
    "def split_data(data):\n",
    "    train, test = train_test_split(data, test_size = .2)\n",
    "    train_data = tc.SFrame(train)\n",
    "    test_data = tc.SFrame(test)\n",
    "    return train_data, test_data"
   ]
  },
  {
   "cell_type": "code",
   "execution_count": 192,
   "metadata": {
    "ExecuteTime": {
     "end_time": "2020-02-23T14:48:31.125816Z",
     "start_time": "2020-02-23T14:48:31.100608Z"
    }
   },
   "outputs": [],
   "source": [
    "train_cluster, test_cluster = split_data(albums_by_cluster)"
   ]
  },
  {
   "cell_type": "code",
   "execution_count": 193,
   "metadata": {
    "ExecuteTime": {
     "end_time": "2020-02-23T14:48:44.248716Z",
     "start_time": "2020-02-23T14:48:44.182376Z"
    }
   },
   "outputs": [
    {
     "ename": "AttributeError",
     "evalue": "'SFrame' object has no attribute 'values'",
     "output_type": "error",
     "traceback": [
      "\u001b[0;31m---------------------------------------------------------------------------\u001b[0m",
      "\u001b[0;31mAttributeError\u001b[0m                            Traceback (most recent call last)",
      "\u001b[0;32m<ipython-input-193-c6d0e2191020>\u001b[0m in \u001b[0;36m<module>\u001b[0;34m\u001b[0m\n\u001b[0;32m----> 1\u001b[0;31m \u001b[0mtrain_cluster\u001b[0m \u001b[0;34m=\u001b[0m \u001b[0msparse\u001b[0m\u001b[0;34m.\u001b[0m\u001b[0mcsr_matrix\u001b[0m\u001b[0;34m(\u001b[0m\u001b[0mtrain_cluster\u001b[0m\u001b[0;34m.\u001b[0m\u001b[0mvalues\u001b[0m\u001b[0;34m)\u001b[0m\u001b[0;34m.\u001b[0m\u001b[0mtocoo\u001b[0m\u001b[0;34m(\u001b[0m\u001b[0;34m)\u001b[0m\u001b[0;34m\u001b[0m\u001b[0;34m\u001b[0m\u001b[0m\n\u001b[0m\u001b[1;32m      2\u001b[0m \u001b[0mtest_cluster\u001b[0m \u001b[0;34m=\u001b[0m \u001b[0msparse\u001b[0m\u001b[0;34m.\u001b[0m\u001b[0mcsr_matrix\u001b[0m\u001b[0;34m(\u001b[0m\u001b[0mtest_cluster\u001b[0m\u001b[0;34m.\u001b[0m\u001b[0mvalues\u001b[0m\u001b[0;34m)\u001b[0m\u001b[0;34m.\u001b[0m\u001b[0mtocoo\u001b[0m\u001b[0;34m(\u001b[0m\u001b[0;34m)\u001b[0m\u001b[0;34m\u001b[0m\u001b[0;34m\u001b[0m\u001b[0m\n",
      "\u001b[0;31mAttributeError\u001b[0m: 'SFrame' object has no attribute 'values'"
     ]
    }
   ],
   "source": [
    "train_cluster = sparse.csr_matrix(train_cluster.values).tocoo()\n",
    "test_cluster = sparse.csr_matrix(test_cluster.values).tocoo()"
   ]
  },
  {
   "cell_type": "code",
   "execution_count": 196,
   "metadata": {
    "ExecuteTime": {
     "end_time": "2020-02-23T14:53:47.849248Z",
     "start_time": "2020-02-23T14:53:47.820752Z"
    }
   },
   "outputs": [
    {
     "ename": "AttributeError",
     "evalue": "'SFrame' object has no attribute 'tocoo'",
     "output_type": "error",
     "traceback": [
      "\u001b[0;31m---------------------------------------------------------------------------\u001b[0m",
      "\u001b[0;31mAttributeError\u001b[0m                            Traceback (most recent call last)",
      "\u001b[0;32m<ipython-input-196-70a3f2716435>\u001b[0m in \u001b[0;36m<module>\u001b[0;34m\u001b[0m\n\u001b[1;32m      1\u001b[0m \u001b[0mmodel\u001b[0m \u001b[0;34m=\u001b[0m \u001b[0mlightfm\u001b[0m\u001b[0;34m.\u001b[0m\u001b[0mLightFM\u001b[0m\u001b[0;34m(\u001b[0m\u001b[0mlearning_rate\u001b[0m\u001b[0;34m=\u001b[0m\u001b[0;36m0.05\u001b[0m\u001b[0;34m,\u001b[0m \u001b[0mloss\u001b[0m\u001b[0;34m=\u001b[0m\u001b[0;34m'bpr'\u001b[0m\u001b[0;34m)\u001b[0m\u001b[0;34m\u001b[0m\u001b[0;34m\u001b[0m\u001b[0m\n\u001b[0;32m----> 2\u001b[0;31m \u001b[0mmodel\u001b[0m\u001b[0;34m.\u001b[0m\u001b[0mfit\u001b[0m\u001b[0;34m(\u001b[0m\u001b[0mtrain_cluster\u001b[0m\u001b[0;34m,\u001b[0m \u001b[0mepochs\u001b[0m\u001b[0;34m=\u001b[0m\u001b[0;36m10\u001b[0m\u001b[0;34m)\u001b[0m\u001b[0;34m\u001b[0m\u001b[0;34m\u001b[0m\u001b[0m\n\u001b[0m",
      "\u001b[0;32m~/anaconda3/lib/python3.7/site-packages/lightfm/lightfm.py\u001b[0m in \u001b[0;36mfit\u001b[0;34m(self, interactions, user_features, item_features, sample_weight, epochs, num_threads, verbose)\u001b[0m\n\u001b[1;32m    477\u001b[0m                                 \u001b[0mepochs\u001b[0m\u001b[0;34m=\u001b[0m\u001b[0mepochs\u001b[0m\u001b[0;34m,\u001b[0m\u001b[0;34m\u001b[0m\u001b[0;34m\u001b[0m\u001b[0m\n\u001b[1;32m    478\u001b[0m                                 \u001b[0mnum_threads\u001b[0m\u001b[0;34m=\u001b[0m\u001b[0mnum_threads\u001b[0m\u001b[0;34m,\u001b[0m\u001b[0;34m\u001b[0m\u001b[0;34m\u001b[0m\u001b[0m\n\u001b[0;32m--> 479\u001b[0;31m                                 verbose=verbose)\n\u001b[0m\u001b[1;32m    480\u001b[0m \u001b[0;34m\u001b[0m\u001b[0m\n\u001b[1;32m    481\u001b[0m     def fit_partial(self, interactions,\n",
      "\u001b[0;32m~/anaconda3/lib/python3.7/site-packages/lightfm/lightfm.py\u001b[0m in \u001b[0;36mfit_partial\u001b[0;34m(self, interactions, user_features, item_features, sample_weight, epochs, num_threads, verbose)\u001b[0m\n\u001b[1;32m    529\u001b[0m         \u001b[0;31m# We need this in the COO format.\u001b[0m\u001b[0;34m\u001b[0m\u001b[0;34m\u001b[0m\u001b[0;34m\u001b[0m\u001b[0m\n\u001b[1;32m    530\u001b[0m         \u001b[0;31m# If that's already true, this is a no-op.\u001b[0m\u001b[0;34m\u001b[0m\u001b[0;34m\u001b[0m\u001b[0;34m\u001b[0m\u001b[0m\n\u001b[0;32m--> 531\u001b[0;31m         \u001b[0minteractions\u001b[0m \u001b[0;34m=\u001b[0m \u001b[0minteractions\u001b[0m\u001b[0;34m.\u001b[0m\u001b[0mtocoo\u001b[0m\u001b[0;34m(\u001b[0m\u001b[0;34m)\u001b[0m\u001b[0;34m\u001b[0m\u001b[0;34m\u001b[0m\u001b[0m\n\u001b[0m\u001b[1;32m    532\u001b[0m \u001b[0;34m\u001b[0m\u001b[0m\n\u001b[1;32m    533\u001b[0m         \u001b[0;32mif\u001b[0m \u001b[0minteractions\u001b[0m\u001b[0;34m.\u001b[0m\u001b[0mdtype\u001b[0m \u001b[0;34m!=\u001b[0m \u001b[0mCYTHON_DTYPE\u001b[0m\u001b[0;34m:\u001b[0m\u001b[0;34m\u001b[0m\u001b[0;34m\u001b[0m\u001b[0m\n",
      "\u001b[0;31mAttributeError\u001b[0m: 'SFrame' object has no attribute 'tocoo'"
     ]
    }
   ],
   "source": [
    "model = lightfm.LightFM(learning_rate=0.05, loss='bpr')\n",
    "model.fit(train_cluster, epochs=10)"
   ]
  },
  {
   "cell_type": "code",
   "execution_count": 157,
   "metadata": {
    "ExecuteTime": {
     "end_time": "2020-02-23T13:23:13.799391Z",
     "start_time": "2020-02-23T13:23:13.776686Z"
    }
   },
   "outputs": [
    {
     "ename": "NameError",
     "evalue": "name 'precision_at_k' is not defined",
     "output_type": "error",
     "traceback": [
      "\u001b[0;31m---------------------------------------------------------------------------\u001b[0m",
      "\u001b[0;31mNameError\u001b[0m                                 Traceback (most recent call last)",
      "\u001b[0;32m<ipython-input-157-0f5b3cdce979>\u001b[0m in \u001b[0;36m<module>\u001b[0;34m\u001b[0m\n\u001b[0;32m----> 1\u001b[0;31m \u001b[0mtrain_precision\u001b[0m \u001b[0;34m=\u001b[0m \u001b[0mprecision_at_k\u001b[0m\u001b[0;34m(\u001b[0m\u001b[0mmodel\u001b[0m\u001b[0;34m,\u001b[0m \u001b[0mtrain\u001b[0m\u001b[0;34m,\u001b[0m \u001b[0mk\u001b[0m\u001b[0;34m=\u001b[0m\u001b[0;36m10\u001b[0m\u001b[0;34m)\u001b[0m\u001b[0;34m.\u001b[0m\u001b[0mmean\u001b[0m\u001b[0;34m(\u001b[0m\u001b[0;34m)\u001b[0m\u001b[0;34m\u001b[0m\u001b[0;34m\u001b[0m\u001b[0m\n\u001b[0m\u001b[1;32m      2\u001b[0m \u001b[0mtest_precision\u001b[0m \u001b[0;34m=\u001b[0m \u001b[0mprecision_at_k\u001b[0m\u001b[0;34m(\u001b[0m\u001b[0mmodel\u001b[0m\u001b[0;34m,\u001b[0m \u001b[0mtest\u001b[0m\u001b[0;34m,\u001b[0m \u001b[0mk\u001b[0m\u001b[0;34m=\u001b[0m\u001b[0;36m10\u001b[0m\u001b[0;34m)\u001b[0m\u001b[0;34m.\u001b[0m\u001b[0mmean\u001b[0m\u001b[0;34m(\u001b[0m\u001b[0;34m)\u001b[0m\u001b[0;34m\u001b[0m\u001b[0;34m\u001b[0m\u001b[0m\n\u001b[1;32m      3\u001b[0m \u001b[0;34m\u001b[0m\u001b[0m\n\u001b[1;32m      4\u001b[0m \u001b[0mtrain_auc\u001b[0m \u001b[0;34m=\u001b[0m \u001b[0mauc_score\u001b[0m\u001b[0;34m(\u001b[0m\u001b[0mmodel\u001b[0m\u001b[0;34m,\u001b[0m \u001b[0mtrain\u001b[0m\u001b[0;34m)\u001b[0m\u001b[0;34m.\u001b[0m\u001b[0mmean\u001b[0m\u001b[0;34m(\u001b[0m\u001b[0;34m)\u001b[0m\u001b[0;34m\u001b[0m\u001b[0;34m\u001b[0m\u001b[0m\n\u001b[1;32m      5\u001b[0m \u001b[0mtest_auc\u001b[0m \u001b[0;34m=\u001b[0m \u001b[0mauc_score\u001b[0m\u001b[0;34m(\u001b[0m\u001b[0mmodel\u001b[0m\u001b[0;34m,\u001b[0m \u001b[0mtest\u001b[0m\u001b[0;34m)\u001b[0m\u001b[0;34m.\u001b[0m\u001b[0mmean\u001b[0m\u001b[0;34m(\u001b[0m\u001b[0;34m)\u001b[0m\u001b[0;34m\u001b[0m\u001b[0;34m\u001b[0m\u001b[0m\n",
      "\u001b[0;31mNameError\u001b[0m: name 'precision_at_k' is not defined"
     ]
    }
   ],
   "source": [
    "train_precision = precision_at_k(model, train, k=10).mean()\n",
    "test_precision = precision_at_k(model, test, k=10).mean()\n",
    "\n",
    "train_auc = auc_score(model, train).mean()\n",
    "test_auc = auc_score(model, test).mean()\n",
    "print(train_precision, train_auc)\n",
    "print('Precision: train %.2f, test %.2f.' % (train_precision, test_precision))\n",
    "print('AUC: train %.2f, test %.2f.' % (train_auc, test_auc))"
   ]
  }
 ],
 "metadata": {
  "kernelspec": {
   "display_name": "Python 3",
   "language": "python",
   "name": "python3"
  },
  "language_info": {
   "codemirror_mode": {
    "name": "ipython",
    "version": 3
   },
   "file_extension": ".py",
   "mimetype": "text/x-python",
   "name": "python",
   "nbconvert_exporter": "python",
   "pygments_lexer": "ipython3",
   "version": "3.7.3"
  },
  "varInspector": {
   "cols": {
    "lenName": 16,
    "lenType": 16,
    "lenVar": 40
   },
   "kernels_config": {
    "python": {
     "delete_cmd_postfix": "",
     "delete_cmd_prefix": "del ",
     "library": "var_list.py",
     "varRefreshCmd": "print(var_dic_list())"
    },
    "r": {
     "delete_cmd_postfix": ") ",
     "delete_cmd_prefix": "rm(",
     "library": "var_list.r",
     "varRefreshCmd": "cat(var_dic_list()) "
    }
   },
   "types_to_exclude": [
    "module",
    "function",
    "builtin_function_or_method",
    "instance",
    "_Feature"
   ],
   "window_display": false
  }
 },
 "nbformat": 4,
 "nbformat_minor": 2
}
